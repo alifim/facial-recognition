{
 "cells": [
  {
   "cell_type": "markdown",
   "metadata": {
    "colab_type": "text",
    "id": "B5O3s5tTGZyK"
   },
   "source": [
    "# Tugas Besar: Face Recognition dengan Keras\n",
    "\n",
    "\n",
    "### Instruksi Tugas Besar\n",
    "Didalam notebook ini, beberapa script sudah disediakan sehingga Anda hanya akan mengerjakan beberapa bagian script yang kosong. Selama pengerjaan Anda akan diberi petunjuk terkait alur dan instruksi pengerjaan. Oleh karena itu, perhatikan istruksi dengan baik. Tulisan `Tugas:` mengindikasikan script kosong yang harus Anda kerjakan agar keseluruhan sistem dapat berjalan dengan baik. \n",
    "\n",
    ">**Note:** Setelah Anda menyelesaikan tugas besar ini, Anda diminta untuk mengumpulkan tugas besar ini dalam bentuk HTML. Sebelum diubah menjadi HTML, semua script harus dipastikan sudah di-run agar penilai dapat melihat hasil dari kode yang dijalankan. Anda dapat mengubah notebook ini menjadi HTML dengan **File -> Download as -> HTML(.html)**. Sertakan file HTML tersebut bersama folder tugas besar ini.\n",
    "\n",
    "Selain mengimplementasikan bagian script yang kosong, Anda juga diminta menjawab pertanyaan analisis. Pertanyaan tersebut ditandai dengan tulisan **'Pertanyaan X'**. Baca dengan baik pertanyaan tersebut dan berikan jawaban anda secara jelas di bagian dengan tulisan **Jawaban**. Tugas besar Anda akan dinilai berdasarkan kode implementasi dan juga jawaban analisis setiap pertanyaan.\n",
    "\n",
    ">**Note:** Sel Code dan Markdown dapat dieksekusi dengan **Shift+Enter** di keyboard. Sel Markdown dapat di-edit dengan mengklik dua kali sel tersebut.\n",
    "\n",
    "Bagian yang diberi tanda **_opsional_** merupakan tugas yang diberikan jika Anda ingin mendapatkan nilai lebih dari standar minimum.\n",
    "\n",
    "### Alur Tugas Besar\n",
    "Notebook tugas besar ini dibagi menjadi beberapa langkah sebagai berikut. Silahkan diperhatikan dan dipahami alur dan detail setiap langkah.\n",
    "1. Loading Dataset\n",
    "2. Periksa Isi Dataset\n",
    "3. Pisah Fitur dan Label\n",
    "4. Olah data label dengan One-Hot-Encoding\n",
    "5. Definisikan Model Machine Learning\n",
    "6. Definisikan Hyperparameters\n",
    "7. Definisikan Optimizer dan Loss Function\n",
    "8. Training Model\n",
    "9. Evaluasi Model\n",
    "10. Eksperimen Model Machine Learning Lain(Opsional)\n",
    "11. Implementasi Model"
   ]
  },
  {
   "cell_type": "markdown",
   "metadata": {
    "colab_type": "text",
    "id": "8JgVLa4sGZyM"
   },
   "source": [
    "## Kelompok yang mengerjakan\n",
    "Silahkan klik dua kali sel ini kemudian isi bagian yang kosong.\n",
    "\n",
    "**Kelompok:** (isi no kelompok)\n",
    "\n",
    "**Anggota Kelompok:**\n",
    "1. Alif Ilham Madani\n",
    "2. M. Fariz Aziz\n"
   ]
  },
  {
   "cell_type": "markdown",
   "metadata": {
    "colab_type": "text",
    "id": "hG5sf30vGZyN"
   },
   "source": [
    "### Persiapkan library yang dibutuhkan\n",
    "Tugas besar ini menggunakan banyak library yang bisa dilihat di file requirements.txt. Script dibawah dapat dijalankan untuk instalasi semua library tersebut."
   ]
  },
  {
   "cell_type": "code",
   "execution_count": 1,
   "metadata": {
    "colab": {},
    "colab_type": "code",
    "id": "uAziLHITGZyO"
   },
   "outputs": [
    {
     "name": "stdout",
     "output_type": "stream",
     "text": [
      "\n",
      "Note: you may need to restart the kernel to use updated packages.\n"
     ]
    },
    {
     "name": "stderr",
     "output_type": "stream",
     "text": [
      "usage: conda-script.py [-h] [-V] command ...\n",
      "conda-script.py: error: unrecognized arguments: -r\n"
     ]
    }
   ],
   "source": [
    "conda install -r requirements.txt"
   ]
  },
  {
   "cell_type": "markdown",
   "metadata": {
    "colab_type": "text",
    "id": "SEq33EE3GZyV"
   },
   "source": [
    "## 1. Loading Dataset\n",
    "Dataset yang digunakan dalam tugas besar ini disimpan dalam file CSV dengan nama train.csv dan test.csv. Berikut adalah script yang digunakan untuk membaca dataset CSV tersebut yang kemudian disimpan dalam dataframe Pandas."
   ]
  },
  {
   "cell_type": "code",
   "execution_count": 2,
   "metadata": {
    "colab": {},
    "colab_type": "code",
    "id": "h-47hkn9GZyW",
    "outputId": "157a9c4f-0cf9-455c-822a-cd8d64059d91"
   },
   "outputs": [
    {
     "name": "stdout",
     "output_type": "stream",
     "text": [
      "trainset, validset & testset berhasil dibaca!\n"
     ]
    }
   ],
   "source": [
    "import pandas as pd\n",
    "\n",
    "## Direktori dataset\n",
    "dir_trainset = \"./dataset/trainset.csv\"  # Dataset for Training \n",
    "dir_validset = \"./dataset/validset.csv\"  # Dataset for Validation \n",
    "dir_testset = \"./dataset/testset.csv\"    # Dataset for Testing\n",
    "\n",
    "## Membaca data csv ke Dataframe Pandas\n",
    "train_pd = pd.read_csv(dir_trainset, index_col=0)\n",
    "valid_pd = pd.read_csv(dir_validset, index_col=0)\n",
    "test_pd = pd.read_csv(dir_testset, index_col=0)\n",
    "\n",
    "## proses membaca dataset membutuhkan waktu yang cukup lama sekitar 1-2 menit\n",
    "\n",
    "print('trainset, validset & testset berhasil dibaca!')"
   ]
  },
  {
   "cell_type": "markdown",
   "metadata": {
    "colab_type": "text",
    "id": "gDQ_L11bGZyc"
   },
   "source": [
    "## 2. Periksa Isi Dataset\n",
    "Dataset ini merupakan representasi dari foto-foto wajah yang nantinya akan diklasifikasikan dengan model machine learning. Setiap foto wajah direpresentasikan dalam 512 fitur muka yang biasanya dikenal dengan istilah **feature embeddings**. Script dibawah ini memperlihatkan isi dataset untuk 10 baris pertama. Perhatikan bahwa terdapat informasi 512 fitur wajah pada kolom `feature-0` hingga `feature-511` beserta ID wajahnya pada kolom `face_id`. Fitur-fitur wajah tersebut diperoleh dengan Convolutional Neural Network(CNN) yang dapat dilihat pada skema dibawah ini. Karena CNN bukan merupakan bahasan utama dalam mata kuliah Dasar Sistem Kendali Cerdas maka facenet tidak dibahas lebih lanjut pada tugas besar ini. Namun, mahasiswa diperbolehkan untuk mempelajari beberapa contoh CNN yang digunakan untuk ekstrak feature embeddings tersebut, seperti [ageitgey](https://github.com/ageitgey/face_recognition) dan [davidsandberg](https://github.com/davidsandberg/facenet).\n",
    "<img src=\"files/assets/feature_embeddings.PNG\">"
   ]
  },
  {
   "cell_type": "code",
   "execution_count": 3,
   "metadata": {
    "colab": {},
    "colab_type": "code",
    "id": "wbfQdjnxGZyd",
    "outputId": "d6945fa6-3a4d-4c7d-e22d-66b4c0047113"
   },
   "outputs": [
    {
     "data": {
      "text/html": [
       "<div>\n",
       "<style scoped>\n",
       "    .dataframe tbody tr th:only-of-type {\n",
       "        vertical-align: middle;\n",
       "    }\n",
       "\n",
       "    .dataframe tbody tr th {\n",
       "        vertical-align: top;\n",
       "    }\n",
       "\n",
       "    .dataframe thead th {\n",
       "        text-align: right;\n",
       "    }\n",
       "</style>\n",
       "<table border=\"1\" class=\"dataframe\">\n",
       "  <thead>\n",
       "    <tr style=\"text-align: right;\">\n",
       "      <th></th>\n",
       "      <th>feature-0</th>\n",
       "      <th>feature-1</th>\n",
       "      <th>feature-2</th>\n",
       "      <th>feature-3</th>\n",
       "      <th>feature-4</th>\n",
       "      <th>feature-5</th>\n",
       "      <th>feature-6</th>\n",
       "      <th>feature-7</th>\n",
       "      <th>feature-8</th>\n",
       "      <th>feature-9</th>\n",
       "      <th>...</th>\n",
       "      <th>feature-503</th>\n",
       "      <th>feature-504</th>\n",
       "      <th>feature-505</th>\n",
       "      <th>feature-506</th>\n",
       "      <th>feature-507</th>\n",
       "      <th>feature-508</th>\n",
       "      <th>feature-509</th>\n",
       "      <th>feature-510</th>\n",
       "      <th>feature-511</th>\n",
       "      <th>person_id</th>\n",
       "    </tr>\n",
       "  </thead>\n",
       "  <tbody>\n",
       "    <tr>\n",
       "      <td>0</td>\n",
       "      <td>0.007336</td>\n",
       "      <td>0.008595</td>\n",
       "      <td>0.068958</td>\n",
       "      <td>0.056461</td>\n",
       "      <td>-0.084156</td>\n",
       "      <td>0.033723</td>\n",
       "      <td>0.008896</td>\n",
       "      <td>0.031503</td>\n",
       "      <td>0.003729</td>\n",
       "      <td>0.063417</td>\n",
       "      <td>...</td>\n",
       "      <td>-0.066135</td>\n",
       "      <td>0.005970</td>\n",
       "      <td>-0.038453</td>\n",
       "      <td>0.001771</td>\n",
       "      <td>0.079099</td>\n",
       "      <td>0.019221</td>\n",
       "      <td>-0.026182</td>\n",
       "      <td>-0.071137</td>\n",
       "      <td>-0.002375</td>\n",
       "      <td>1-1</td>\n",
       "    </tr>\n",
       "    <tr>\n",
       "      <td>1</td>\n",
       "      <td>0.015086</td>\n",
       "      <td>-0.003008</td>\n",
       "      <td>0.047025</td>\n",
       "      <td>0.032434</td>\n",
       "      <td>-0.081811</td>\n",
       "      <td>0.017877</td>\n",
       "      <td>0.002261</td>\n",
       "      <td>0.041208</td>\n",
       "      <td>-0.024354</td>\n",
       "      <td>0.026385</td>\n",
       "      <td>...</td>\n",
       "      <td>-0.015013</td>\n",
       "      <td>0.051359</td>\n",
       "      <td>-0.033380</td>\n",
       "      <td>0.016916</td>\n",
       "      <td>0.069442</td>\n",
       "      <td>-0.010372</td>\n",
       "      <td>0.003045</td>\n",
       "      <td>-0.069003</td>\n",
       "      <td>-0.006235</td>\n",
       "      <td>1-1</td>\n",
       "    </tr>\n",
       "    <tr>\n",
       "      <td>2</td>\n",
       "      <td>0.015934</td>\n",
       "      <td>0.015473</td>\n",
       "      <td>0.070109</td>\n",
       "      <td>0.050137</td>\n",
       "      <td>-0.072415</td>\n",
       "      <td>0.052197</td>\n",
       "      <td>0.024562</td>\n",
       "      <td>0.034938</td>\n",
       "      <td>0.001563</td>\n",
       "      <td>0.080846</td>\n",
       "      <td>...</td>\n",
       "      <td>-0.044977</td>\n",
       "      <td>0.012908</td>\n",
       "      <td>-0.031884</td>\n",
       "      <td>0.017296</td>\n",
       "      <td>0.071215</td>\n",
       "      <td>-0.001534</td>\n",
       "      <td>-0.028464</td>\n",
       "      <td>-0.046038</td>\n",
       "      <td>-0.038910</td>\n",
       "      <td>1-1</td>\n",
       "    </tr>\n",
       "    <tr>\n",
       "      <td>3</td>\n",
       "      <td>-0.003318</td>\n",
       "      <td>0.016053</td>\n",
       "      <td>0.077125</td>\n",
       "      <td>0.041617</td>\n",
       "      <td>-0.077971</td>\n",
       "      <td>0.027392</td>\n",
       "      <td>0.011004</td>\n",
       "      <td>0.078127</td>\n",
       "      <td>-0.005446</td>\n",
       "      <td>0.048533</td>\n",
       "      <td>...</td>\n",
       "      <td>-0.009593</td>\n",
       "      <td>0.042208</td>\n",
       "      <td>-0.011924</td>\n",
       "      <td>-0.031368</td>\n",
       "      <td>0.103672</td>\n",
       "      <td>-0.028327</td>\n",
       "      <td>-0.060657</td>\n",
       "      <td>-0.034763</td>\n",
       "      <td>-0.008891</td>\n",
       "      <td>1-1</td>\n",
       "    </tr>\n",
       "    <tr>\n",
       "      <td>4</td>\n",
       "      <td>0.010949</td>\n",
       "      <td>-0.001085</td>\n",
       "      <td>0.040895</td>\n",
       "      <td>0.040264</td>\n",
       "      <td>-0.102653</td>\n",
       "      <td>0.011109</td>\n",
       "      <td>0.003630</td>\n",
       "      <td>0.068485</td>\n",
       "      <td>-0.015905</td>\n",
       "      <td>0.047344</td>\n",
       "      <td>...</td>\n",
       "      <td>-0.061034</td>\n",
       "      <td>0.039825</td>\n",
       "      <td>-0.014529</td>\n",
       "      <td>-0.007613</td>\n",
       "      <td>0.065414</td>\n",
       "      <td>-0.030302</td>\n",
       "      <td>-0.033726</td>\n",
       "      <td>-0.048324</td>\n",
       "      <td>0.002556</td>\n",
       "      <td>1-1</td>\n",
       "    </tr>\n",
       "    <tr>\n",
       "      <td>5</td>\n",
       "      <td>0.001779</td>\n",
       "      <td>0.036720</td>\n",
       "      <td>0.037063</td>\n",
       "      <td>0.061743</td>\n",
       "      <td>-0.064264</td>\n",
       "      <td>0.018931</td>\n",
       "      <td>-0.046034</td>\n",
       "      <td>0.053014</td>\n",
       "      <td>-0.021254</td>\n",
       "      <td>0.052705</td>\n",
       "      <td>...</td>\n",
       "      <td>-0.035359</td>\n",
       "      <td>0.026923</td>\n",
       "      <td>-0.022075</td>\n",
       "      <td>-0.010552</td>\n",
       "      <td>0.091256</td>\n",
       "      <td>-0.013126</td>\n",
       "      <td>-0.022284</td>\n",
       "      <td>-0.063483</td>\n",
       "      <td>-0.019112</td>\n",
       "      <td>1-1</td>\n",
       "    </tr>\n",
       "    <tr>\n",
       "      <td>6</td>\n",
       "      <td>0.009405</td>\n",
       "      <td>0.020585</td>\n",
       "      <td>0.067251</td>\n",
       "      <td>0.054651</td>\n",
       "      <td>-0.079160</td>\n",
       "      <td>0.042340</td>\n",
       "      <td>0.024068</td>\n",
       "      <td>0.046522</td>\n",
       "      <td>0.008216</td>\n",
       "      <td>0.070212</td>\n",
       "      <td>...</td>\n",
       "      <td>-0.050399</td>\n",
       "      <td>0.013240</td>\n",
       "      <td>-0.023042</td>\n",
       "      <td>0.019414</td>\n",
       "      <td>0.063744</td>\n",
       "      <td>0.023139</td>\n",
       "      <td>-0.020479</td>\n",
       "      <td>-0.028209</td>\n",
       "      <td>-0.041626</td>\n",
       "      <td>1-1</td>\n",
       "    </tr>\n",
       "    <tr>\n",
       "      <td>7</td>\n",
       "      <td>0.019641</td>\n",
       "      <td>0.036734</td>\n",
       "      <td>0.069020</td>\n",
       "      <td>0.039897</td>\n",
       "      <td>-0.098649</td>\n",
       "      <td>0.037844</td>\n",
       "      <td>0.009090</td>\n",
       "      <td>0.065478</td>\n",
       "      <td>0.008289</td>\n",
       "      <td>0.068393</td>\n",
       "      <td>...</td>\n",
       "      <td>-0.023330</td>\n",
       "      <td>0.037434</td>\n",
       "      <td>-0.032883</td>\n",
       "      <td>0.002379</td>\n",
       "      <td>0.095453</td>\n",
       "      <td>0.001019</td>\n",
       "      <td>-0.047362</td>\n",
       "      <td>-0.028359</td>\n",
       "      <td>-0.038839</td>\n",
       "      <td>1-1</td>\n",
       "    </tr>\n",
       "    <tr>\n",
       "      <td>8</td>\n",
       "      <td>0.034333</td>\n",
       "      <td>0.010343</td>\n",
       "      <td>0.053453</td>\n",
       "      <td>0.044506</td>\n",
       "      <td>-0.112179</td>\n",
       "      <td>0.017660</td>\n",
       "      <td>0.009743</td>\n",
       "      <td>0.067430</td>\n",
       "      <td>-0.002366</td>\n",
       "      <td>0.049682</td>\n",
       "      <td>...</td>\n",
       "      <td>-0.010248</td>\n",
       "      <td>0.032953</td>\n",
       "      <td>-0.023777</td>\n",
       "      <td>-0.003032</td>\n",
       "      <td>0.082713</td>\n",
       "      <td>-0.031928</td>\n",
       "      <td>-0.014155</td>\n",
       "      <td>-0.018802</td>\n",
       "      <td>-0.021380</td>\n",
       "      <td>1-1</td>\n",
       "    </tr>\n",
       "    <tr>\n",
       "      <td>9</td>\n",
       "      <td>0.020323</td>\n",
       "      <td>0.018146</td>\n",
       "      <td>0.056467</td>\n",
       "      <td>0.041011</td>\n",
       "      <td>-0.089895</td>\n",
       "      <td>0.020766</td>\n",
       "      <td>0.005801</td>\n",
       "      <td>0.055252</td>\n",
       "      <td>-0.007054</td>\n",
       "      <td>0.068315</td>\n",
       "      <td>...</td>\n",
       "      <td>-0.034793</td>\n",
       "      <td>0.010056</td>\n",
       "      <td>-0.021220</td>\n",
       "      <td>-0.002686</td>\n",
       "      <td>0.084705</td>\n",
       "      <td>-0.041045</td>\n",
       "      <td>-0.022000</td>\n",
       "      <td>-0.029753</td>\n",
       "      <td>-0.018926</td>\n",
       "      <td>1-1</td>\n",
       "    </tr>\n",
       "  </tbody>\n",
       "</table>\n",
       "<p>10 rows × 513 columns</p>\n",
       "</div>"
      ],
      "text/plain": [
       "   feature-0  feature-1  feature-2  feature-3  feature-4  feature-5  \\\n",
       "0   0.007336   0.008595   0.068958   0.056461  -0.084156   0.033723   \n",
       "1   0.015086  -0.003008   0.047025   0.032434  -0.081811   0.017877   \n",
       "2   0.015934   0.015473   0.070109   0.050137  -0.072415   0.052197   \n",
       "3  -0.003318   0.016053   0.077125   0.041617  -0.077971   0.027392   \n",
       "4   0.010949  -0.001085   0.040895   0.040264  -0.102653   0.011109   \n",
       "5   0.001779   0.036720   0.037063   0.061743  -0.064264   0.018931   \n",
       "6   0.009405   0.020585   0.067251   0.054651  -0.079160   0.042340   \n",
       "7   0.019641   0.036734   0.069020   0.039897  -0.098649   0.037844   \n",
       "8   0.034333   0.010343   0.053453   0.044506  -0.112179   0.017660   \n",
       "9   0.020323   0.018146   0.056467   0.041011  -0.089895   0.020766   \n",
       "\n",
       "   feature-6  feature-7  feature-8  feature-9  ...  feature-503  feature-504  \\\n",
       "0   0.008896   0.031503   0.003729   0.063417  ...    -0.066135     0.005970   \n",
       "1   0.002261   0.041208  -0.024354   0.026385  ...    -0.015013     0.051359   \n",
       "2   0.024562   0.034938   0.001563   0.080846  ...    -0.044977     0.012908   \n",
       "3   0.011004   0.078127  -0.005446   0.048533  ...    -0.009593     0.042208   \n",
       "4   0.003630   0.068485  -0.015905   0.047344  ...    -0.061034     0.039825   \n",
       "5  -0.046034   0.053014  -0.021254   0.052705  ...    -0.035359     0.026923   \n",
       "6   0.024068   0.046522   0.008216   0.070212  ...    -0.050399     0.013240   \n",
       "7   0.009090   0.065478   0.008289   0.068393  ...    -0.023330     0.037434   \n",
       "8   0.009743   0.067430  -0.002366   0.049682  ...    -0.010248     0.032953   \n",
       "9   0.005801   0.055252  -0.007054   0.068315  ...    -0.034793     0.010056   \n",
       "\n",
       "   feature-505  feature-506  feature-507  feature-508  feature-509  \\\n",
       "0    -0.038453     0.001771     0.079099     0.019221    -0.026182   \n",
       "1    -0.033380     0.016916     0.069442    -0.010372     0.003045   \n",
       "2    -0.031884     0.017296     0.071215    -0.001534    -0.028464   \n",
       "3    -0.011924    -0.031368     0.103672    -0.028327    -0.060657   \n",
       "4    -0.014529    -0.007613     0.065414    -0.030302    -0.033726   \n",
       "5    -0.022075    -0.010552     0.091256    -0.013126    -0.022284   \n",
       "6    -0.023042     0.019414     0.063744     0.023139    -0.020479   \n",
       "7    -0.032883     0.002379     0.095453     0.001019    -0.047362   \n",
       "8    -0.023777    -0.003032     0.082713    -0.031928    -0.014155   \n",
       "9    -0.021220    -0.002686     0.084705    -0.041045    -0.022000   \n",
       "\n",
       "   feature-510  feature-511  person_id  \n",
       "0    -0.071137    -0.002375        1-1  \n",
       "1    -0.069003    -0.006235        1-1  \n",
       "2    -0.046038    -0.038910        1-1  \n",
       "3    -0.034763    -0.008891        1-1  \n",
       "4    -0.048324     0.002556        1-1  \n",
       "5    -0.063483    -0.019112        1-1  \n",
       "6    -0.028209    -0.041626        1-1  \n",
       "7    -0.028359    -0.038839        1-1  \n",
       "8    -0.018802    -0.021380        1-1  \n",
       "9    -0.029753    -0.018926        1-1  \n",
       "\n",
       "[10 rows x 513 columns]"
      ]
     },
     "execution_count": 3,
     "metadata": {},
     "output_type": "execute_result"
    }
   ],
   "source": [
    "## Lihat isi dataset\n",
    "train_pd[:10]"
   ]
  },
  {
   "cell_type": "markdown",
   "metadata": {
    "colab_type": "text",
    "id": "DXLUOaevGZyi"
   },
   "source": [
    "## 3. Pisahkan Fitur dan Label\n",
    "Sebelum dataset dapat digunakan dalam training, validation dan testing machine learning, perlu dilakukan pemisahan antara fitur dan label untuk masing-masing trainingset, validationset dan testset. Dalam hal ini, fitur merupakan 512 fitur wajah yang terdapat pada kolom nol hingga 511 `feature-0`-`feature-511`, sedangkan label merupakan kolom ke 512 `face_id`. Namun, perlu diketahui bahwa Keras menerima data dalam bentuk _numpy ndarray_ bukan _pandas dataframe_ sedangkan dataset kita sebelumnya dalam bentuk _pandas dataframe_. Oleh karena itu, perlu dilakukan konversi data dari pandas ke numpy dengan [pandas.dataframe.values](https://pandas.pydata.org/pandas-docs/stable/reference/api/pandas.DataFrame.values.html).\n",
    "\n",
    "Dengan demikian berikut adalah langkah-langkah yang perlu dilakukan:\n",
    "1. Acak baris yang ada didalam dataset _pandas dataframe_ masing-masing `train_pd`, `valid_pd` dan `test_pd` dengan [sklearn.utils.shuffle](https://scikit-learn.org/stable/modules/generated/sklearn.utils.shuffle.html) dengan contoh sebagai berikut [shuffle-dataframe-rows](https://stackoverflow.com/questions/29576430/shuffle-dataframe-rows)\n",
    "2. Konversi data dari _pandas dataframe_ menjadi _numpy ndarray_.\n",
    "3. Pisah data fitur yang disimpan dalam `X_train`, `X_val` dan `X_test` dengan [numpy indexing](https://www.numpy.org/devdocs/user/basics.indexing.html).\n",
    "4. Pisah data label `y_train`, `y_val` dan `y_test`. Namun, perlu diketahui bahwa dimensi vektor harus dalam bentuk vektor kolom yang dapat dilakukan dengan [numpy.ndarray.reshape()](https://docs.scipy.org/doc/numpy/reference/generated/numpy.ndarray.reshape.html)"
   ]
  },
  {
   "cell_type": "code",
   "execution_count": 4,
   "metadata": {
    "colab": {},
    "colab_type": "code",
    "id": "UmmclnY-GZyj"
   },
   "outputs": [],
   "source": [
    "from sklearn.utils import shuffle\n",
    "\n",
    "## Tugas : Acak baris train_pd dan test_pd\n",
    "train_pd = None\n",
    "valid_pd = None\n",
    "test_pd = None"
   ]
  },
  {
   "cell_type": "code",
   "execution_count": 5,
   "metadata": {
    "colab": {},
    "colab_type": "code",
    "id": "PE61nuR6GZyp",
    "outputId": "3501f990-f5c6-48e1-f29e-eec06badbecf"
   },
   "outputs": [
    {
     "ename": "AttributeError",
     "evalue": "'NoneType' object has no attribute 'values'",
     "output_type": "error",
     "traceback": [
      "\u001b[1;31m---------------------------------------------------------------------------\u001b[0m",
      "\u001b[1;31mAttributeError\u001b[0m                            Traceback (most recent call last)",
      "\u001b[1;32m<ipython-input-5-e1b248dd4c9d>\u001b[0m in \u001b[0;36m<module>\u001b[1;34m\u001b[0m\n\u001b[0;32m      2\u001b[0m \u001b[1;33m\u001b[0m\u001b[0m\n\u001b[0;32m      3\u001b[0m \u001b[1;31m## Tugas : Konversi dataframe pandas ke numpy ndarray\u001b[0m\u001b[1;33m\u001b[0m\u001b[1;33m\u001b[0m\u001b[1;33m\u001b[0m\u001b[0m\n\u001b[1;32m----> 4\u001b[1;33m \u001b[0mtrain\u001b[0m \u001b[1;33m=\u001b[0m \u001b[0mtrain_pd\u001b[0m\u001b[1;33m.\u001b[0m\u001b[0mvalues\u001b[0m\u001b[1;33m\u001b[0m\u001b[1;33m\u001b[0m\u001b[0m\n\u001b[0m\u001b[0;32m      5\u001b[0m \u001b[0mprint\u001b[0m\u001b[1;33m(\u001b[0m\u001b[1;34m'trainingset'\u001b[0m\u001b[1;33m)\u001b[0m\u001b[1;33m\u001b[0m\u001b[1;33m\u001b[0m\u001b[0m\n\u001b[0;32m      6\u001b[0m \u001b[0mprint\u001b[0m\u001b[1;33m(\u001b[0m\u001b[0mtrain\u001b[0m\u001b[1;33m[\u001b[0m\u001b[1;33m:\u001b[0m\u001b[1;36m5\u001b[0m\u001b[1;33m,\u001b[0m\u001b[1;33m:\u001b[0m\u001b[1;36m5\u001b[0m\u001b[1;33m]\u001b[0m\u001b[1;33m)\u001b[0m \u001b[1;31m# Tampilkan 5 kolom pertama dan 5 baris pertama\u001b[0m\u001b[1;33m\u001b[0m\u001b[1;33m\u001b[0m\u001b[0m\n",
      "\u001b[1;31mAttributeError\u001b[0m: 'NoneType' object has no attribute 'values'"
     ]
    }
   ],
   "source": [
    "import numpy as np\n",
    "\n",
    "## Tugas : Konversi dataframe pandas ke numpy ndarray\n",
    "train = train_pd.values\n",
    "print('trainingset')\n",
    "print(train[:5,:5]) # Tampilkan 5 kolom pertama dan 5 baris pertama\n",
    "\n",
    "valid = valid_pd.values\n",
    "print('\\nvalidset')\n",
    "print(valid[:5,:5])\n",
    "\n",
    "test = test_pd.values\n",
    "print('\\ntestset')\n",
    "print(test[:5,:5])"
   ]
  },
  {
   "cell_type": "code",
   "execution_count": null,
   "metadata": {
    "colab": {},
    "colab_type": "code",
    "id": "uijqxttIGZyu",
    "outputId": "89f56ed4-47e0-40ba-e6a1-a59952926b5e"
   },
   "outputs": [],
   "source": [
    "## Tugas : Pisah data fitur dan data label\n",
    "\n",
    "# Trainingset\n",
    "X_train = train[:,:512]\n",
    "y_train = train[:,512].reshape(X_train.shape[0],-1)\n",
    "print('Dimensi matriks trainset')\n",
    "print('fitur: '+ str(X_train.shape))\n",
    "print('label: '+ str(y_train.shape))\n",
    "\n",
    "# Validset\n",
    "X_valid = valid[:,:512]\n",
    "y_valid = valid[:,512].reshape(X_valid.shape[0],-1)\n",
    "print('\\nDimensi matriks validset')\n",
    "print('fitur: '+ str(X_valid.shape))\n",
    "print('label: '+ str(y_valid.shape))\n",
    "\n",
    "# Testset\n",
    "X_test = test[:,:512]\n",
    "y_test = test[:,512].reshape(X_test.shape[0],-1)\n",
    "print('\\nDimensi matriks testset')\n",
    "print('fitur: '+ str(X_test.shape))\n",
    "print('label: '+ str(y_test.shape))\n",
    "\n",
    "## Hasil Seharusnya di console\n",
    "##\n",
    "##   Dimensi matriks trainset\n",
    "##   fitur: (16700, 512)\n",
    "##   label: (16700, 1)\n",
    "##   \n",
    "##   Dimensi matriks validset\n",
    "##   fitur: (1161, 512)\n",
    "##   label: (1161, 1)\n",
    "##   \n",
    "##   Dimensi matriks testset\n",
    "##   fitur: (1200, 512)\n",
    "##   label: (1200, 1)"
   ]
  },
  {
   "cell_type": "markdown",
   "metadata": {
    "colab_type": "text",
    "id": "XBBKKFbDGZyz"
   },
   "source": [
    "## 4. Olah data label dengan One-Hot-Encoding\n",
    "Data label dalam `y_train` dan `y_test` masih berupa tipe integer dimana satu nilai merepresentasikan satu identitas wajah. Dalam keras, data label perlu diolah menjadi matriks yang tiap baris berupa vektor nilai nol atau satu. Data label tersebut perlu dioleh dengan metode [One-Hot-Encoding](https://hackernoon.com/what-is-one-hot-encoding-why-and-when-do-you-have-to-use-it-e3c6186d008f).\n",
    "\n",
    "Misalkan terdapat 3 kelas dan data label adalah sebagai berikut \n",
    "\n",
    "[[0], \n",
    " [1], \n",
    " [1], \n",
    " [2]].\n",
    "\n",
    "Dengan metode one-hot-encoding maka data label akan menjadi\n",
    "\n",
    "[[1, 0, 0],\n",
    " [0, 1, 0],\n",
    " [0, 1, 0],\n",
    " [0, 0, 1]]\n",
    " \n",
    "Salah satu cara mengimplementasikan one-hot encoding adalah dengan menggunakan library [sklearn.preprocessing.LabelBinazer()](https://scikit-learn.org/stable/modules/generated/sklearn.preprocessing.LabelBinarizer.html).\n",
    "\n",
    "*NB:* Perhatikan bahwa jumlah label y_train, y_valid & y_test berbeda yang bisa menyebabkan potensi kesalahan pada one-hot encoding tanpa modifikasi!!"
   ]
  },
  {
   "cell_type": "code",
   "execution_count": null,
   "metadata": {
    "colab": {},
    "colab_type": "code",
    "id": "CQdm6e8qGZy0",
    "outputId": "1533522f-b9de-46b0-fe20-252ac78d283e"
   },
   "outputs": [],
   "source": [
    "from sklearn import preprocessing\n",
    "\n",
    "## Tugas : Olah data label dengan metode one-hot encoding\n",
    "\n",
    "y_train = None # Label untuk traningset\n",
    "y_valid = None # Label untuk validset\n",
    "y_test = None # Label untuk testset\n",
    "\n",
    "print('Dimensi label setelah one-hot-encoding')\n",
    "print('train: ' + str(y_train.shape))\n",
    "print('valid: ' + str(y_valid.shape))\n",
    "print('test : ' + str(y_test.shape))\n",
    "\n",
    "## Hasil Seharusnya di console\n",
    "##  \n",
    "##  Dimensi label setelah one-hot-encoding\n",
    "##  train: (38781, 200)\n",
    "##  valid: (2368, 200)\n",
    "##  test : (2458, 200)"
   ]
  },
  {
   "cell_type": "markdown",
   "metadata": {
    "colab_type": "text",
    "id": "9JrV873jGZy4"
   },
   "source": [
    "## 5. Definisikan Model Machine Learning\n",
    "Pada tugas besar ini, Anda diharapkan membangun model Neural Network dengan Keras yang dapat dilihat contoh implementasinya pada [API Sequential Keras](https://keras.io/getting-started/sequential-model-guide/). Silahkan bereksperimen dengan jumlah hidden layer, jumlah node dan fungsi aktivasi. Selain itu, silahkan gunakan Dropout sebagai salah satu metode penanganan overfitting."
   ]
  },
  {
   "cell_type": "code",
   "execution_count": null,
   "metadata": {
    "colab": {},
    "colab_type": "code",
    "id": "FlStiL_ZGZy5",
    "outputId": "ace77f97-5868-4d75-ca7c-604c7052aa90"
   },
   "outputs": [],
   "source": [
    "from keras.models import Sequential\n",
    "from keras.layers import Dense, Dropout, Activation\n",
    "\n",
    "## Tugas : Definisikan Parameter Model\n",
    "dimensi_input = None  # Dimensi data input (jumlah fitur)\n",
    "hidden_layer_1 = None # Jumlah node pada hidden layer pertama\n",
    "hidden_layer_2 = None # Jumlah node pada hidden layer kedua\n",
    "output_layer = None    # Jumlah node pada output layer\n",
    "drop_prob = None      # Nilai probability untuk dropout layer\n",
    "\n",
    "## Tugas : Definisikan model dibawah\n",
    "\n",
    "\n",
    "## Tampilkan definisi model\n",
    "model.summary()"
   ]
  },
  {
   "cell_type": "markdown",
   "metadata": {
    "colab_type": "text",
    "id": "lZYTUlzTGZy9"
   },
   "source": [
    "## 6. Definisikan Hyperparameters\n",
    "Hyperparameters merupakan nilai-nilai yang perlu ditentukan agar kita dapat memeroleh hasil training yang baik. Dalam hal ini, perlu ditentukan nilai learning rate, ukuran batch dan jumlah iterasi epoch."
   ]
  },
  {
   "cell_type": "code",
   "execution_count": null,
   "metadata": {
    "colab": {},
    "colab_type": "code",
    "id": "-UTPdIFdGZy-"
   },
   "outputs": [],
   "source": [
    "## Tugas : Tentukan Nilai Hyperparameters\n",
    "learning_rate = None\n",
    "batch_size = None\n",
    "epoch = None"
   ]
  },
  {
   "cell_type": "markdown",
   "metadata": {
    "colab_type": "text",
    "id": "BLp1qbFiGZzE"
   },
   "source": [
    "## 7. Definisikan Optimizer dan Loss Function\n",
    "Optimizer merupakan opsi yang juga perlu diperhatikan, pilihan optimizer dalam Keras dapat dilihat [keras-optimizers](https://keras.io/optimizers/). Selain itu, loss function juga perlu dipilih yang disesuaikan dengan jenis data yang digunakan. Dalam Keras jenis-jenis loss function dapat dilihat di [keras-losses](https://keras.io/losses/)."
   ]
  },
  {
   "cell_type": "code",
   "execution_count": null,
   "metadata": {
    "colab": {},
    "colab_type": "code",
    "id": "Dks8q2plGZzF"
   },
   "outputs": [],
   "source": [
    "from keras.optimizers import Adam\n",
    "\n",
    "## Tugas : Definisikan Optimizer dan Loss function\n",
    "\n",
    "optimizer = None\n",
    "\n",
    "model.compile(loss= None , optimizer= None , metrics=[ 'accuracy' ])"
   ]
  },
  {
   "cell_type": "markdown",
   "metadata": {
    "colab_type": "text",
    "id": "egqLGwh8GZzL"
   },
   "source": [
    "## 8. Training Model\n",
    "Model dapat di-train dengan script sebagai berikut. Perlu diperhatikan bahwa training machine learning biasanya dilakukan berulang kali dengan mengatur hyperparameter model(hidden layer, jumlah node, dll) dan hyperparameter training (learning rate, ukuran batch, optimizer, dll) sehingga diperoleh model hasil training dengan akurasi terbaik. Tidak terdapat rumus baku tentang nilai hyperparameter untuk menghasilkan training terbaik. Akan tetapi, terdapat beberapa artikel yang menjelaskan tentang sense dalam memilih hyperparameter sebagai berikut [Neural Networks and Deep Learning book - Chapter 3: How to choose a neural network's hyper-parameters? by Michael Nielsen](http://neuralnetworksanddeeplearning.com/chap3.html#how_to_choose_a_neural_network's_hyper-parameters) dan [Deep Learning book - chapter 11.4: Selecting Hyperparameters by Ian Goodfellow, Yoshua Bengio, Aaron Courville](http://www.deeplearningbook.org/contents/guidelines.html)"
   ]
  },
  {
   "cell_type": "code",
   "execution_count": null,
   "metadata": {
    "colab": {},
    "colab_type": "code",
    "id": "LDYBlpqKGZzM",
    "outputId": "b440b2f3-5a1c-4a07-9055-1c926c12f30d"
   },
   "outputs": [],
   "source": [
    "## Train Model dengan script dibawah\n",
    "model.fit()"
   ]
  },
  {
   "cell_type": "markdown",
   "metadata": {
    "colab_type": "text",
    "id": "jaTYNYi8GZzQ"
   },
   "source": [
    "__Pertanyaan 1__: Jelaskan langkah-langkah yang Anda lakukan sehingga mendapat akurasi terbaik saat ini? Uraikan setiap langkah beserta alasannya. Menurut Anda, apakah model saat ini performanya sudah cukup?"
   ]
  },
  {
   "cell_type": "markdown",
   "metadata": {
    "colab_type": "text",
    "id": "35Vzr0wNGZzR"
   },
   "source": [
    "__Jawaban__: (silahkan klik dua kali cell ini)\n",
    "- langkah 1\n",
    "- langkah 2\n",
    "- ...\n"
   ]
  },
  {
   "cell_type": "markdown",
   "metadata": {
    "colab_type": "text",
    "id": "In1-_GI4GZzS"
   },
   "source": [
    "## 8. Evaluasi Model (Testing)\n",
    "Berikut adalah script yang dapat digunakan untuk menguji model dengan dataset test. Jika akurasi hasil evaluasi jauh lebih kecil daripada akurasi training, maka model Anda mengalami **overfitting**."
   ]
  },
  {
   "cell_type": "code",
   "execution_count": null,
   "metadata": {
    "colab": {},
    "colab_type": "code",
    "id": "8_XiQr8iGZzS",
    "outputId": "0ca80a62-fc45-420e-8a9a-c996add98fb8"
   },
   "outputs": [],
   "source": [
    "## Evaluasi Model dengan script dibawah\n",
    "score = model.evaluate(X_test, y_test, batch_size=128)\n",
    "print('Loss test    : {:.2f}'.format(score[0]))\n",
    "print('Akurasi test : {:.2f} %'.format(score[1]*100))"
   ]
  },
  {
   "cell_type": "markdown",
   "metadata": {
    "colab_type": "text",
    "id": "eMaf_ijPGZzW"
   },
   "source": [
    "## 9. Eksperimen Model Machine Learning Lain (Opsional)\n",
    "Neural Network merupakan salah satu dari banyak algoritma machine learning. Jika Anda ingin mengerjakan bagian opsional ini silahkan bereksperimen membangun face recognition dengan algoritma lain, seperti Support Vector Machine(SVM)."
   ]
  },
  {
   "cell_type": "code",
   "execution_count": null,
   "metadata": {
    "colab": {},
    "colab_type": "code",
    "id": "-jP3c3wJGZzX"
   },
   "outputs": [],
   "source": [
    "## Tugas : (Opsional)\n",
    "## Membangun model face recognition dengan algoritma selain NN\n",
    "## Silahkan bereksperimen dengan banyak algoritma"
   ]
  },
  {
   "cell_type": "markdown",
   "metadata": {
    "colab_type": "text",
    "id": "um9AFlFrGZzb"
   },
   "source": [
    "__Pertanyaan 2__: Apakah algoritma terbaik yang Anda gunakan lebih baik dari Neural Network? Silahkan jelaskan alasan kenapa algoritma tersebut lebih baik atau lebih buruk dari Neural Network?"
   ]
  },
  {
   "cell_type": "markdown",
   "metadata": {
    "colab_type": "text",
    "id": "CrLGam-bGZzc"
   },
   "source": [
    "__Jawaban__: (silahkan klik dua kali cell ini)\n"
   ]
  }
 ],
 "metadata": {
  "colab": {
   "collapsed_sections": [],
   "name": "face_recognition_project.ipynb",
   "provenance": []
  },
  "kernelspec": {
   "display_name": "Python 3",
   "language": "python",
   "name": "python3"
  },
  "language_info": {
   "codemirror_mode": {
    "name": "ipython",
    "version": 3
   },
   "file_extension": ".py",
   "mimetype": "text/x-python",
   "name": "python",
   "nbconvert_exporter": "python",
   "pygments_lexer": "ipython3",
   "version": "3.6.9"
  }
 },
 "nbformat": 4,
 "nbformat_minor": 1
}
