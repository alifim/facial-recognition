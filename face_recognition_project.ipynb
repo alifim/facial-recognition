{
 "cells": [
  {
   "cell_type": "markdown",
   "metadata": {
    "colab_type": "text",
    "id": "B5O3s5tTGZyK"
   },
   "source": [
    "# Tugas Besar: Face Recognition dengan Keras\n",
    "\n",
    "\n",
    "### Instruksi Tugas Besar\n",
    "Didalam notebook ini, beberapa script sudah disediakan sehingga Anda hanya akan mengerjakan beberapa bagian script yang kosong. Selama pengerjaan Anda akan diberi petunjuk terkait alur dan instruksi pengerjaan. Oleh karena itu, perhatikan istruksi dengan baik. Tulisan `Tugas:` mengindikasikan script kosong yang harus Anda kerjakan agar keseluruhan sistem dapat berjalan dengan baik. \n",
    "\n",
    ">**Note:** Setelah Anda menyelesaikan tugas besar ini, Anda diminta untuk mengumpulkan tugas besar ini dalam bentuk HTML. Sebelum diubah menjadi HTML, semua script harus dipastikan sudah di-run agar penilai dapat melihat hasil dari kode yang dijalankan. Anda dapat mengubah notebook ini menjadi HTML dengan **File -> Download as -> HTML(.html)**. Sertakan file HTML tersebut bersama folder tugas besar ini.\n",
    "\n",
    "Selain mengimplementasikan bagian script yang kosong, Anda juga diminta menjawab pertanyaan analisis. Pertanyaan tersebut ditandai dengan tulisan **'Pertanyaan X'**. Baca dengan baik pertanyaan tersebut dan berikan jawaban anda secara jelas di bagian dengan tulisan **Jawaban**. Tugas besar Anda akan dinilai berdasarkan kode implementasi dan juga jawaban analisis setiap pertanyaan.\n",
    "\n",
    ">**Note:** Sel Code dan Markdown dapat dieksekusi dengan **Shift+Enter** di keyboard. Sel Markdown dapat di-edit dengan mengklik dua kali sel tersebut.\n",
    "\n",
    "Bagian yang diberi tanda **_opsional_** merupakan tugas yang diberikan jika Anda ingin mendapatkan nilai lebih dari standar minimum.\n",
    "\n",
    "### Alur Tugas Besar\n",
    "Notebook tugas besar ini dibagi menjadi beberapa langkah sebagai berikut. Silahkan diperhatikan dan dipahami alur dan detail setiap langkah.\n",
    "1. Loading Dataset\n",
    "2. Periksa Isi Dataset\n",
    "3. Pisah Fitur dan Label\n",
    "4. Olah data label dengan One-Hot-Encoding\n",
    "5. Definisikan Model Machine Learning\n",
    "6. Definisikan Hyperparameters\n",
    "7. Definisikan Optimizer dan Loss Function\n",
    "8. Training Model\n",
    "9. Evaluasi Model\n",
    "10. Eksperimen Model Machine Learning Lain(Opsional)\n",
    "11. Implementasi Model"
   ]
  },
  {
   "cell_type": "markdown",
   "metadata": {
    "colab_type": "text",
    "id": "8JgVLa4sGZyM"
   },
   "source": [
    "## Kelompok yang mengerjakan\n",
    "Silahkan klik dua kali sel ini kemudian isi bagian yang kosong.\n",
    "\n",
    "**Kelompok:** (isi no kelompok)\n",
    "\n",
    "**Anggota Kelompok:**\n",
    "1. Alif Ilham Madani\n",
    "2. M. Fariz Aziz\n"
   ]
  },
  {
   "cell_type": "markdown",
   "metadata": {
    "colab_type": "text",
    "id": "hG5sf30vGZyN"
   },
   "source": [
    "### Persiapkan library yang dibutuhkan\n",
    "Tugas besar ini menggunakan banyak library yang bisa dilihat di file requirements.txt. Script dibawah dapat dijalankan untuk instalasi semua library tersebut."
   ]
  },
  {
   "cell_type": "code",
   "execution_count": 1,
   "metadata": {
    "colab": {},
    "colab_type": "code",
    "id": "uAziLHITGZyO"
   },
   "outputs": [
    {
     "name": "stdout",
     "output_type": "stream",
     "text": [
      "\n",
      "Note: you may need to restart the kernel to use updated packages.\n"
     ]
    },
    {
     "name": "stderr",
     "output_type": "stream",
     "text": [
      "usage: conda-script.py [-h] [-V] command ...\n",
      "conda-script.py: error: unrecognized arguments: -r\n"
     ]
    }
   ],
   "source": [
    "conda install -r requirements.txt"
   ]
  },
  {
   "cell_type": "markdown",
   "metadata": {
    "colab_type": "text",
    "id": "SEq33EE3GZyV"
   },
   "source": [
    "## 1. Loading Dataset\n",
    "Dataset yang digunakan dalam tugas besar ini disimpan dalam file CSV dengan nama train.csv dan test.csv. Berikut adalah script yang digunakan untuk membaca dataset CSV tersebut yang kemudian disimpan dalam dataframe Pandas."
   ]
  },
  {
   "cell_type": "code",
   "execution_count": null,
   "metadata": {
    "colab": {},
    "colab_type": "code",
    "id": "h-47hkn9GZyW",
    "outputId": "157a9c4f-0cf9-455c-822a-cd8d64059d91"
   },
   "outputs": [],
   "source": [
    "import pandas as pd\n",
    "\n",
    "## Direktori dataset\n",
    "dir_trainset = \"./dataset/trainset.csv\"  # Dataset for Training \n",
    "dir_validset = \"./dataset/validset.csv\"  # Dataset for Validation \n",
    "dir_testset = \"./dataset/testset.csv\"    # Dataset for Testing\n",
    "\n",
    "## Membaca data csv ke Dataframe Pandas\n",
    "train_pd = pd.read_csv(dir_trainset, index_col=0)\n",
    "valid_pd = pd.read_csv(dir_validset, index_col=0)\n",
    "test_pd = pd.read_csv(dir_testset, index_col=0)\n",
    "\n",
    "## proses membaca dataset membutuhkan waktu yang cukup lama sekitar 1-2 menit\n",
    "\n",
    "print('trainset, validset & testset berhasil dibaca!')"
   ]
  },
  {
   "cell_type": "markdown",
   "metadata": {
    "colab_type": "text",
    "id": "gDQ_L11bGZyc"
   },
   "source": [
    "## 2. Periksa Isi Dataset\n",
    "Dataset ini merupakan representasi dari foto-foto wajah yang nantinya akan diklasifikasikan dengan model machine learning. Setiap foto wajah direpresentasikan dalam 512 fitur muka yang biasanya dikenal dengan istilah **feature embeddings**. Script dibawah ini memperlihatkan isi dataset untuk 10 baris pertama. Perhatikan bahwa terdapat informasi 512 fitur wajah pada kolom `feature-0` hingga `feature-511` beserta ID wajahnya pada kolom `face_id`. Fitur-fitur wajah tersebut diperoleh dengan Convolutional Neural Network(CNN) yang dapat dilihat pada skema dibawah ini. Karena CNN bukan merupakan bahasan utama dalam mata kuliah Dasar Sistem Kendali Cerdas maka facenet tidak dibahas lebih lanjut pada tugas besar ini. Namun, mahasiswa diperbolehkan untuk mempelajari beberapa contoh CNN yang digunakan untuk ekstrak feature embeddings tersebut, seperti [ageitgey](https://github.com/ageitgey/face_recognition) dan [davidsandberg](https://github.com/davidsandberg/facenet).\n",
    "<img src=\"files/assets/feature_embeddings.PNG\">"
   ]
  },
  {
   "cell_type": "code",
   "execution_count": null,
   "metadata": {
    "colab": {},
    "colab_type": "code",
    "id": "wbfQdjnxGZyd",
    "outputId": "d6945fa6-3a4d-4c7d-e22d-66b4c0047113"
   },
   "outputs": [],
   "source": [
    "## Lihat isi dataset\n",
    "train_pd[:10]"
   ]
  },
  {
   "cell_type": "markdown",
   "metadata": {
    "colab_type": "text",
    "id": "DXLUOaevGZyi"
   },
   "source": [
    "## 3. Pisahkan Fitur dan Label\n",
    "Sebelum dataset dapat digunakan dalam training, validation dan testing machine learning, perlu dilakukan pemisahan antara fitur dan label untuk masing-masing trainingset, validationset dan testset. Dalam hal ini, fitur merupakan 512 fitur wajah yang terdapat pada kolom nol hingga 511 `feature-0`-`feature-511`, sedangkan label merupakan kolom ke 512 `face_id`. Namun, perlu diketahui bahwa Keras menerima data dalam bentuk _numpy ndarray_ bukan _pandas dataframe_ sedangkan dataset kita sebelumnya dalam bentuk _pandas dataframe_. Oleh karena itu, perlu dilakukan konversi data dari pandas ke numpy dengan [pandas.dataframe.values](https://pandas.pydata.org/pandas-docs/stable/reference/api/pandas.DataFrame.values.html).\n",
    "\n",
    "Dengan demikian berikut adalah langkah-langkah yang perlu dilakukan:\n",
    "1. Acak baris yang ada didalam dataset _pandas dataframe_ masing-masing `train_pd`, `valid_pd` dan `test_pd` dengan [sklearn.utils.shuffle](https://scikit-learn.org/stable/modules/generated/sklearn.utils.shuffle.html) dengan contoh sebagai berikut [shuffle-dataframe-rows](https://stackoverflow.com/questions/29576430/shuffle-dataframe-rows)\n",
    "2. Konversi data dari _pandas dataframe_ menjadi _numpy ndarray_.\n",
    "3. Pisah data fitur yang disimpan dalam `X_train`, `X_val` dan `X_test` dengan [numpy indexing](https://www.numpy.org/devdocs/user/basics.indexing.html).\n",
    "4. Pisah data label `y_train`, `y_val` dan `y_test`. Namun, perlu diketahui bahwa dimensi vektor harus dalam bentuk vektor kolom yang dapat dilakukan dengan [numpy.ndarray.reshape()](https://docs.scipy.org/doc/numpy/reference/generated/numpy.ndarray.reshape.html)"
   ]
  },
  {
   "cell_type": "code",
   "execution_count": null,
   "metadata": {
    "colab": {},
    "colab_type": "code",
    "id": "UmmclnY-GZyj"
   },
   "outputs": [],
   "source": [
    "from sklearn.utils import shuffle\n",
    "\n",
    "## Tugas : Acak baris train_pd dan test_pd\n",
    "train_pd = None\n",
    "valid_pd = None\n",
    "test_pd = None"
   ]
  },
  {
   "cell_type": "code",
   "execution_count": null,
   "metadata": {
    "colab": {},
    "colab_type": "code",
    "id": "PE61nuR6GZyp",
    "outputId": "3501f990-f5c6-48e1-f29e-eec06badbecf"
   },
   "outputs": [],
   "source": [
    "import numpy as np\n",
    "\n",
    "## Tugas : Konversi dataframe pandas ke numpy ndarray\n",
    "train = train_pd.values\n",
    "print('trainingset')\n",
    "print(train[:5,:5]) # Tampilkan 5 kolom pertama dan 5 baris pertama\n",
    "\n",
    "valid = valid_pd.values\n",
    "print('\\nvalidset')\n",
    "print(valid[:5,:5])\n",
    "\n",
    "test = test_pd.values\n",
    "print('\\ntestset')\n",
    "print(test[:5,:5])"
   ]
  },
  {
   "cell_type": "code",
   "execution_count": null,
   "metadata": {
    "colab": {},
    "colab_type": "code",
    "id": "uijqxttIGZyu",
    "outputId": "89f56ed4-47e0-40ba-e6a1-a59952926b5e"
   },
   "outputs": [],
   "source": [
    "## Tugas : Pisah data fitur dan data label\n",
    "\n",
    "# Trainingset\n",
    "X_train = train[:,:512]\n",
    "y_train = train[:,512].reshape(X_train.shape[0],-1)\n",
    "print('Dimensi matriks trainset')\n",
    "print('fitur: '+ str(X_train.shape))\n",
    "print('label: '+ str(y_train.shape))\n",
    "\n",
    "# Validset\n",
    "X_valid = valid[:,:512]\n",
    "y_valid = valid[:,512].reshape(X_valid.shape[0],-1)\n",
    "print('\\nDimensi matriks validset')\n",
    "print('fitur: '+ str(X_valid.shape))\n",
    "print('label: '+ str(y_valid.shape))\n",
    "\n",
    "# Testset\n",
    "X_test = test[:,:512]\n",
    "y_test = test[:,512].reshape(X_test.shape[0],-1)\n",
    "print('\\nDimensi matriks testset')\n",
    "print('fitur: '+ str(X_test.shape))\n",
    "print('label: '+ str(y_test.shape))\n",
    "\n",
    "## Hasil Seharusnya di console\n",
    "##\n",
    "##   Dimensi matriks trainset\n",
    "##   fitur: (16700, 512)\n",
    "##   label: (16700, 1)\n",
    "##   \n",
    "##   Dimensi matriks validset\n",
    "##   fitur: (1161, 512)\n",
    "##   label: (1161, 1)\n",
    "##   \n",
    "##   Dimensi matriks testset\n",
    "##   fitur: (1200, 512)\n",
    "##   label: (1200, 1)"
   ]
  },
  {
   "cell_type": "markdown",
   "metadata": {
    "colab_type": "text",
    "id": "XBBKKFbDGZyz"
   },
   "source": [
    "## 4. Olah data label dengan One-Hot-Encoding\n",
    "Data label dalam `y_train` dan `y_test` masih berupa tipe integer dimana satu nilai merepresentasikan satu identitas wajah. Dalam keras, data label perlu diolah menjadi matriks yang tiap baris berupa vektor nilai nol atau satu. Data label tersebut perlu dioleh dengan metode [One-Hot-Encoding](https://hackernoon.com/what-is-one-hot-encoding-why-and-when-do-you-have-to-use-it-e3c6186d008f).\n",
    "\n",
    "Misalkan terdapat 3 kelas dan data label adalah sebagai berikut \n",
    "\n",
    "[[0], \n",
    " [1], \n",
    " [1], \n",
    " [2]].\n",
    "\n",
    "Dengan metode one-hot-encoding maka data label akan menjadi\n",
    "\n",
    "[[1, 0, 0],\n",
    " [0, 1, 0],\n",
    " [0, 1, 0],\n",
    " [0, 0, 1]]\n",
    " \n",
    "Salah satu cara mengimplementasikan one-hot encoding adalah dengan menggunakan library [sklearn.preprocessing.LabelBinazer()](https://scikit-learn.org/stable/modules/generated/sklearn.preprocessing.LabelBinarizer.html).\n",
    "\n",
    "*NB:* Perhatikan bahwa jumlah label y_train, y_valid & y_test berbeda yang bisa menyebabkan potensi kesalahan pada one-hot encoding tanpa modifikasi!!"
   ]
  },
  {
   "cell_type": "code",
   "execution_count": null,
   "metadata": {
    "colab": {},
    "colab_type": "code",
    "id": "CQdm6e8qGZy0",
    "outputId": "1533522f-b9de-46b0-fe20-252ac78d283e"
   },
   "outputs": [],
   "source": [
    "from sklearn import preprocessing\n",
    "\n",
    "## Tugas : Olah data label dengan metode one-hot encoding\n",
    "\n",
    "y_train = None # Label untuk traningset\n",
    "y_valid = None # Label untuk validset\n",
    "y_test = None # Label untuk testset\n",
    "\n",
    "print('Dimensi label setelah one-hot-encoding')\n",
    "print('train: ' + str(y_train.shape))\n",
    "print('valid: ' + str(y_valid.shape))\n",
    "print('test : ' + str(y_test.shape))\n",
    "\n",
    "## Hasil Seharusnya di console\n",
    "##  \n",
    "##  Dimensi label setelah one-hot-encoding\n",
    "##  train: (38781, 200)\n",
    "##  valid: (2368, 200)\n",
    "##  test : (2458, 200)"
   ]
  },
  {
   "cell_type": "markdown",
   "metadata": {
    "colab_type": "text",
    "id": "9JrV873jGZy4"
   },
   "source": [
    "## 5. Definisikan Model Machine Learning\n",
    "Pada tugas besar ini, Anda diharapkan membangun model Neural Network dengan Keras yang dapat dilihat contoh implementasinya pada [API Sequential Keras](https://keras.io/getting-started/sequential-model-guide/). Silahkan bereksperimen dengan jumlah hidden layer, jumlah node dan fungsi aktivasi. Selain itu, silahkan gunakan Dropout sebagai salah satu metode penanganan overfitting."
   ]
  },
  {
   "cell_type": "code",
   "execution_count": null,
   "metadata": {
    "colab": {},
    "colab_type": "code",
    "id": "FlStiL_ZGZy5",
    "outputId": "ace77f97-5868-4d75-ca7c-604c7052aa90"
   },
   "outputs": [],
   "source": [
    "from keras.models import Sequential\n",
    "from keras.layers import Dense, Dropout, Activation\n",
    "\n",
    "## Tugas : Definisikan Parameter Model\n",
    "dimensi_input = None  # Dimensi data input (jumlah fitur)\n",
    "hidden_layer_1 = None # Jumlah node pada hidden layer pertama\n",
    "hidden_layer_2 = None # Jumlah node pada hidden layer kedua\n",
    "output_layer = None    # Jumlah node pada output layer\n",
    "drop_prob = None      # Nilai probability untuk dropout layer\n",
    "\n",
    "## Tugas : Definisikan model dibawah\n",
    "\n",
    "\n",
    "## Tampilkan definisi model\n",
    "model.summary()"
   ]
  },
  {
   "cell_type": "markdown",
   "metadata": {
    "colab_type": "text",
    "id": "lZYTUlzTGZy9"
   },
   "source": [
    "## 6. Definisikan Hyperparameters\n",
    "Hyperparameters merupakan nilai-nilai yang perlu ditentukan agar kita dapat memeroleh hasil training yang baik. Dalam hal ini, perlu ditentukan nilai learning rate, ukuran batch dan jumlah iterasi epoch."
   ]
  },
  {
   "cell_type": "code",
   "execution_count": null,
   "metadata": {
    "colab": {},
    "colab_type": "code",
    "id": "-UTPdIFdGZy-"
   },
   "outputs": [],
   "source": [
    "## Tugas : Tentukan Nilai Hyperparameters\n",
    "learning_rate = None\n",
    "batch_size = None\n",
    "epoch = None"
   ]
  },
  {
   "cell_type": "markdown",
   "metadata": {
    "colab_type": "text",
    "id": "BLp1qbFiGZzE"
   },
   "source": [
    "## 7. Definisikan Optimizer dan Loss Function\n",
    "Optimizer merupakan opsi yang juga perlu diperhatikan, pilihan optimizer dalam Keras dapat dilihat [keras-optimizers](https://keras.io/optimizers/). Selain itu, loss function juga perlu dipilih yang disesuaikan dengan jenis data yang digunakan. Dalam Keras jenis-jenis loss function dapat dilihat di [keras-losses](https://keras.io/losses/)."
   ]
  },
  {
   "cell_type": "code",
   "execution_count": null,
   "metadata": {
    "colab": {},
    "colab_type": "code",
    "id": "Dks8q2plGZzF"
   },
   "outputs": [],
   "source": [
    "from keras.optimizers import Adam\n",
    "\n",
    "## Tugas : Definisikan Optimizer dan Loss function\n",
    "\n",
    "optimizer = None\n",
    "\n",
    "model.compile(loss= None , optimizer= None , metrics=[ 'accuracy' ])"
   ]
  },
  {
   "cell_type": "markdown",
   "metadata": {
    "colab_type": "text",
    "id": "egqLGwh8GZzL"
   },
   "source": [
    "## 8. Training Model\n",
    "Model dapat di-train dengan script sebagai berikut. Perlu diperhatikan bahwa training machine learning biasanya dilakukan berulang kali dengan mengatur hyperparameter model(hidden layer, jumlah node, dll) dan hyperparameter training (learning rate, ukuran batch, optimizer, dll) sehingga diperoleh model hasil training dengan akurasi terbaik. Tidak terdapat rumus baku tentang nilai hyperparameter untuk menghasilkan training terbaik. Akan tetapi, terdapat beberapa artikel yang menjelaskan tentang sense dalam memilih hyperparameter sebagai berikut [Neural Networks and Deep Learning book - Chapter 3: How to choose a neural network's hyper-parameters? by Michael Nielsen](http://neuralnetworksanddeeplearning.com/chap3.html#how_to_choose_a_neural_network's_hyper-parameters) dan [Deep Learning book - chapter 11.4: Selecting Hyperparameters by Ian Goodfellow, Yoshua Bengio, Aaron Courville](http://www.deeplearningbook.org/contents/guidelines.html)"
   ]
  },
  {
   "cell_type": "code",
   "execution_count": null,
   "metadata": {
    "colab": {},
    "colab_type": "code",
    "id": "LDYBlpqKGZzM",
    "outputId": "b440b2f3-5a1c-4a07-9055-1c926c12f30d"
   },
   "outputs": [],
   "source": [
    "## Train Model dengan script dibawah\n",
    "model.fit()"
   ]
  },
  {
   "cell_type": "markdown",
   "metadata": {
    "colab_type": "text",
    "id": "jaTYNYi8GZzQ"
   },
   "source": [
    "__Pertanyaan 1__: Jelaskan langkah-langkah yang Anda lakukan sehingga mendapat akurasi terbaik saat ini? Uraikan setiap langkah beserta alasannya. Menurut Anda, apakah model saat ini performanya sudah cukup?"
   ]
  },
  {
   "cell_type": "markdown",
   "metadata": {
    "colab_type": "text",
    "id": "35Vzr0wNGZzR"
   },
   "source": [
    "__Jawaban__: (silahkan klik dua kali cell ini)\n",
    "- langkah 1\n",
    "- langkah 2\n",
    "- ...\n"
   ]
  },
  {
   "cell_type": "markdown",
   "metadata": {
    "colab_type": "text",
    "id": "In1-_GI4GZzS"
   },
   "source": [
    "## 8. Evaluasi Model (Testing)\n",
    "Berikut adalah script yang dapat digunakan untuk menguji model dengan dataset test. Jika akurasi hasil evaluasi jauh lebih kecil daripada akurasi training, maka model Anda mengalami **overfitting**."
   ]
  },
  {
   "cell_type": "code",
   "execution_count": null,
   "metadata": {
    "colab": {},
    "colab_type": "code",
    "id": "8_XiQr8iGZzS",
    "outputId": "0ca80a62-fc45-420e-8a9a-c996add98fb8"
   },
   "outputs": [],
   "source": [
    "## Evaluasi Model dengan script dibawah\n",
    "score = model.evaluate(X_test, y_test, batch_size=128)\n",
    "print('Loss test    : {:.2f}'.format(score[0]))\n",
    "print('Akurasi test : {:.2f} %'.format(score[1]*100))"
   ]
  },
  {
   "cell_type": "markdown",
   "metadata": {
    "colab_type": "text",
    "id": "eMaf_ijPGZzW"
   },
   "source": [
    "## 9. Eksperimen Model Machine Learning Lain (Opsional)\n",
    "Neural Network merupakan salah satu dari banyak algoritma machine learning. Jika Anda ingin mengerjakan bagian opsional ini silahkan bereksperimen membangun face recognition dengan algoritma lain, seperti Support Vector Machine(SVM)."
   ]
  },
  {
   "cell_type": "code",
   "execution_count": null,
   "metadata": {
    "colab": {},
    "colab_type": "code",
    "id": "-jP3c3wJGZzX"
   },
   "outputs": [],
   "source": [
    "## Tugas : (Opsional)\n",
    "## Membangun model face recognition dengan algoritma selain NN\n",
    "## Silahkan bereksperimen dengan banyak algoritma"
   ]
  },
  {
   "cell_type": "markdown",
   "metadata": {
    "colab_type": "text",
    "id": "um9AFlFrGZzb"
   },
   "source": [
    "__Pertanyaan 2__: Apakah algoritma terbaik yang Anda gunakan lebih baik dari Neural Network? Silahkan jelaskan alasan kenapa algoritma tersebut lebih baik atau lebih buruk dari Neural Network?"
   ]
  },
  {
   "cell_type": "markdown",
   "metadata": {
    "colab_type": "text",
    "id": "CrLGam-bGZzc"
   },
   "source": [
    "__Jawaban__: (silahkan klik dua kali cell ini)\n"
   ]
  }
 ],
 "metadata": {
  "colab": {
   "collapsed_sections": [],
   "name": "face_recognition_project.ipynb",
   "provenance": []
  },
  "kernelspec": {
   "display_name": "Python 3",
   "language": "python",
   "name": "python3"
  },
  "language_info": {
   "codemirror_mode": {
    "name": "ipython",
    "version": 3
   },
   "file_extension": ".py",
   "mimetype": "text/x-python",
   "name": "python",
   "nbconvert_exporter": "python",
   "pygments_lexer": "ipython3",
   "version": "3.6.9"
  }
 },
 "nbformat": 4,
 "nbformat_minor": 1
}
