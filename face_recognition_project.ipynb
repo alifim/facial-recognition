{
 "cells": [
  {
   "cell_type": "markdown",
   "metadata": {
    "colab_type": "text",
    "id": "B5O3s5tTGZyK"
   },
   "source": [
    "# Tugas Besar: Face Recognition dengan Keras\n",
    "\n",
    "\n",
    "### Instruksi Tugas Besar\n",
    "Didalam notebook ini, beberapa script sudah disediakan sehingga Anda hanya akan mengerjakan beberapa bagian script yang kosong. Selama pengerjaan Anda akan diberi petunjuk terkait alur dan instruksi pengerjaan. Oleh karena itu, perhatikan istruksi dengan baik. Tulisan `Tugas:` mengindikasikan script kosong yang harus Anda kerjakan agar keseluruhan sistem dapat berjalan dengan baik. \n",
    "\n",
    ">**Note:** Setelah Anda menyelesaikan tugas besar ini, Anda diminta untuk mengumpulkan tugas besar ini dalam bentuk HTML. Sebelum diubah menjadi HTML, semua script harus dipastikan sudah di-run agar penilai dapat melihat hasil dari kode yang dijalankan. Anda dapat mengubah notebook ini menjadi HTML dengan **File -> Download as -> HTML(.html)**. Sertakan file HTML tersebut bersama folder tugas besar ini.\n",
    "\n",
    "Selain mengimplementasikan bagian script yang kosong, Anda juga diminta menjawab pertanyaan analisis. Pertanyaan tersebut ditandai dengan tulisan **'Pertanyaan X'**. Baca dengan baik pertanyaan tersebut dan berikan jawaban anda secara jelas di bagian dengan tulisan **Jawaban**. Tugas besar Anda akan dinilai berdasarkan kode implementasi dan juga jawaban analisis setiap pertanyaan.\n",
    "\n",
    ">**Note:** Sel Code dan Markdown dapat dieksekusi dengan **Shift+Enter** di keyboard. Sel Markdown dapat di-edit dengan mengklik dua kali sel tersebut.\n",
    "\n",
    "Bagian yang diberi tanda **_opsional_** merupakan tugas yang diberikan jika Anda ingin mendapatkan nilai lebih dari standar minimum.\n",
    "\n",
    "### Alur Tugas Besar\n",
    "Notebook tugas besar ini dibagi menjadi beberapa langkah sebagai berikut. Silahkan diperhatikan dan dipahami alur dan detail setiap langkah.\n",
    "1. Loading Dataset\n",
    "2. Periksa Isi Dataset\n",
    "3. Pisah Fitur dan Label\n",
    "4. Olah data label dengan One-Hot-Encoding\n",
    "5. Definisikan Model Machine Learning\n",
    "6. Definisikan Hyperparameters\n",
    "7. Definisikan Optimizer dan Loss Function\n",
    "8. Training Model\n",
    "9. Evaluasi Model\n",
    "10. Eksperimen Model Machine Learning Lain(Opsional)\n",
    "11. Implementasi Model"
   ]
  },
  {
   "cell_type": "markdown",
   "metadata": {
    "colab_type": "text",
    "id": "8JgVLa4sGZyM"
   },
   "source": [
    "## Kelompok yang mengerjakan\n",
    "Silahkan klik dua kali sel ini kemudian isi bagian yang kosong.\n",
    "\n",
    "**Kelompok:** (isi no kelompok)\n",
    "\n",
    "**Anggota Kelompok:**\n",
    "1. anggota 1 | NIM 1\n",
    "2. anggota 2 | NIM 2\n",
    "3. anggota 3 | NIM 3\n"
   ]
  },
  {
   "cell_type": "markdown",
   "metadata": {
    "colab_type": "text",
    "id": "hG5sf30vGZyN"
   },
   "source": [
    "### Persiapkan library yang dibutuhkan\n",
    "Tugas besar ini menggunakan banyak library yang bisa dilihat di file requirements.txt. Script dibawah dapat dijalankan untuk instalasi semua library tersebut."
   ]
  },
  {
   "cell_type": "code",
   "execution_count": 0,
   "metadata": {
    "colab": {},
    "colab_type": "code",
    "id": "uAziLHITGZyO"
   },
   "outputs": [],
   "source": [
    "!python3 -m pip install -r requirements.txt"
   ]
  },
  {
   "cell_type": "markdown",
   "metadata": {
    "colab_type": "text",
    "id": "SEq33EE3GZyV"
   },
   "source": [
    "## 1. Loading Dataset\n",
    "Dataset yang digunakan dalam tugas besar ini disimpan dalam file CSV dengan nama train.csv dan test.csv. Berikut adalah script yang digunakan untuk membaca dataset CSV tersebut yang kemudian disimpan dalam dataframe Pandas."
   ]
  },
  {
   "cell_type": "code",
   "execution_count": 0,
   "metadata": {
    "colab": {},
    "colab_type": "code",
    "id": "h-47hkn9GZyW",
    "outputId": "157a9c4f-0cf9-455c-822a-cd8d64059d91"
   },
   "outputs": [
    {
     "name": "stdout",
     "output_type": "stream",
     "text": [
      "trainset dan testset berhasil dibaca!\n"
     ]
    }
   ],
   "source": [
    "import pandas as pd\n",
    "\n",
    "## Direktori dataset\n",
    "dir_trainset = \"./dataset/trainset.csv\"  # Dataset for Training \n",
    "dir_validset = \"./dataset/validset.csv\"  # Dataset for Validation \n",
    "dir_testset = \"./dataset/testset.csv\"    # Dataset for Testing\n",
    "\n",
    "## Membaca data csv ke Dataframe Pandas\n",
    "train_pd = pd.read_csv(dir_trainset, index_col=0)\n",
    "valid_pd = pd.read_csv(dir_validset, index_col=0)\n",
    "test_pd = pd.read_csv(dir_testset, index_col=0)\n",
    "\n",
    "## proses membaca dataset membutuhkan waktu yang cukup lama sekitar 1-2 menit\n",
    "\n",
    "print('trainset, validset & testset berhasil dibaca!')"
   ]
  },
  {
   "cell_type": "markdown",
   "metadata": {
    "colab_type": "text",
    "id": "gDQ_L11bGZyc"
   },
   "source": [
    "## 2. Periksa Isi Dataset\n",
    "Dataset ini merupakan representasi dari foto-foto wajah yang nantinya akan diklasifikasikan dengan model machine learning. Setiap foto wajah direpresentasikan dalam 512 fitur muka yang biasanya dikenal dengan istilah **feature embeddings**. Script dibawah ini memperlihatkan isi dataset untuk 10 baris pertama. Perhatikan bahwa terdapat informasi 512 fitur wajah pada kolom `feature-0` hingga `feature-511` beserta ID wajahnya pada kolom `face_id`. Fitur-fitur wajah tersebut diperoleh dengan Convolutional Neural Network(CNN) yang dapat dilihat pada skema dibawah ini. Karena CNN bukan merupakan bahasan utama dalam mata kuliah Dasar Sistem Kendali Cerdas maka facenet tidak dibahas lebih lanjut pada tugas besar ini. Namun, mahasiswa diperbolehkan untuk mempelajari beberapa contoh CNN yang digunakan untuk ekstrak feature embeddings tersebut, seperti [ageitgey](https://github.com/ageitgey/face_recognition) dan [davidsandberg](https://github.com/davidsandberg/facenet).\n",
    "<img src=\"files/assets/feature_embeddings.PNG\">"
   ]
  },
  {
   "cell_type": "code",
   "execution_count": 0,
   "metadata": {
    "colab": {},
    "colab_type": "code",
    "id": "wbfQdjnxGZyd",
    "outputId": "d6945fa6-3a4d-4c7d-e22d-66b4c0047113"
   },
   "outputs": [
    {
     "data": {
      "text/html": [
       "<div>\n",
       "<style scoped>\n",
       "    .dataframe tbody tr th:only-of-type {\n",
       "        vertical-align: middle;\n",
       "    }\n",
       "\n",
       "    .dataframe tbody tr th {\n",
       "        vertical-align: top;\n",
       "    }\n",
       "\n",
       "    .dataframe thead th {\n",
       "        text-align: right;\n",
       "    }\n",
       "</style>\n",
       "<table border=\"1\" class=\"dataframe\">\n",
       "  <thead>\n",
       "    <tr style=\"text-align: right;\">\n",
       "      <th></th>\n",
       "      <th>feature-0</th>\n",
       "      <th>feature-1</th>\n",
       "      <th>feature-2</th>\n",
       "      <th>feature-3</th>\n",
       "      <th>feature-4</th>\n",
       "      <th>feature-5</th>\n",
       "      <th>feature-6</th>\n",
       "      <th>feature-7</th>\n",
       "      <th>feature-8</th>\n",
       "      <th>feature-9</th>\n",
       "      <th>...</th>\n",
       "      <th>feature-119</th>\n",
       "      <th>feature-120</th>\n",
       "      <th>feature-121</th>\n",
       "      <th>feature-122</th>\n",
       "      <th>feature-123</th>\n",
       "      <th>feature-124</th>\n",
       "      <th>feature-125</th>\n",
       "      <th>feature-126</th>\n",
       "      <th>feature-127</th>\n",
       "      <th>person_id</th>\n",
       "    </tr>\n",
       "  </thead>\n",
       "  <tbody>\n",
       "    <tr>\n",
       "      <th>0</th>\n",
       "      <td>0.249508</td>\n",
       "      <td>0.140941</td>\n",
       "      <td>0.019358</td>\n",
       "      <td>0.069558</td>\n",
       "      <td>0.178254</td>\n",
       "      <td>-0.050526</td>\n",
       "      <td>0.116203</td>\n",
       "      <td>0.085332</td>\n",
       "      <td>-0.034444</td>\n",
       "      <td>0.098884</td>\n",
       "      <td>...</td>\n",
       "      <td>0.009328</td>\n",
       "      <td>0.100447</td>\n",
       "      <td>0.128663</td>\n",
       "      <td>-0.037708</td>\n",
       "      <td>0.003169</td>\n",
       "      <td>0.065096</td>\n",
       "      <td>-0.023164</td>\n",
       "      <td>0.011312</td>\n",
       "      <td>-0.008885</td>\n",
       "      <td>1</td>\n",
       "    </tr>\n",
       "    <tr>\n",
       "      <th>1</th>\n",
       "      <td>0.216727</td>\n",
       "      <td>0.186541</td>\n",
       "      <td>0.050070</td>\n",
       "      <td>0.098276</td>\n",
       "      <td>0.140091</td>\n",
       "      <td>-0.080892</td>\n",
       "      <td>0.087637</td>\n",
       "      <td>0.044271</td>\n",
       "      <td>-0.098830</td>\n",
       "      <td>0.055600</td>\n",
       "      <td>...</td>\n",
       "      <td>0.005635</td>\n",
       "      <td>0.147227</td>\n",
       "      <td>0.120921</td>\n",
       "      <td>-0.075316</td>\n",
       "      <td>-0.024081</td>\n",
       "      <td>0.081287</td>\n",
       "      <td>0.031427</td>\n",
       "      <td>0.015923</td>\n",
       "      <td>-0.006036</td>\n",
       "      <td>1</td>\n",
       "    </tr>\n",
       "    <tr>\n",
       "      <th>2</th>\n",
       "      <td>0.218126</td>\n",
       "      <td>0.180674</td>\n",
       "      <td>0.037945</td>\n",
       "      <td>0.061499</td>\n",
       "      <td>0.153078</td>\n",
       "      <td>-0.084201</td>\n",
       "      <td>0.082621</td>\n",
       "      <td>0.056989</td>\n",
       "      <td>-0.074941</td>\n",
       "      <td>0.036297</td>\n",
       "      <td>...</td>\n",
       "      <td>0.015347</td>\n",
       "      <td>0.123694</td>\n",
       "      <td>0.116205</td>\n",
       "      <td>-0.080593</td>\n",
       "      <td>-0.018862</td>\n",
       "      <td>0.071693</td>\n",
       "      <td>0.019164</td>\n",
       "      <td>-0.049722</td>\n",
       "      <td>-0.035844</td>\n",
       "      <td>1</td>\n",
       "    </tr>\n",
       "    <tr>\n",
       "      <th>3</th>\n",
       "      <td>0.211576</td>\n",
       "      <td>0.184971</td>\n",
       "      <td>0.055630</td>\n",
       "      <td>0.090802</td>\n",
       "      <td>0.131649</td>\n",
       "      <td>-0.078810</td>\n",
       "      <td>0.091326</td>\n",
       "      <td>0.051762</td>\n",
       "      <td>-0.104256</td>\n",
       "      <td>0.051484</td>\n",
       "      <td>...</td>\n",
       "      <td>0.008539</td>\n",
       "      <td>0.157163</td>\n",
       "      <td>0.126885</td>\n",
       "      <td>-0.082595</td>\n",
       "      <td>-0.015439</td>\n",
       "      <td>0.087266</td>\n",
       "      <td>0.028905</td>\n",
       "      <td>-0.002334</td>\n",
       "      <td>0.002757</td>\n",
       "      <td>1</td>\n",
       "    </tr>\n",
       "    <tr>\n",
       "      <th>4</th>\n",
       "      <td>0.245235</td>\n",
       "      <td>0.161489</td>\n",
       "      <td>0.022288</td>\n",
       "      <td>0.038239</td>\n",
       "      <td>0.167697</td>\n",
       "      <td>-0.075540</td>\n",
       "      <td>0.061712</td>\n",
       "      <td>0.055288</td>\n",
       "      <td>-0.072449</td>\n",
       "      <td>0.058405</td>\n",
       "      <td>...</td>\n",
       "      <td>0.028506</td>\n",
       "      <td>0.096711</td>\n",
       "      <td>0.122548</td>\n",
       "      <td>-0.060332</td>\n",
       "      <td>-0.041631</td>\n",
       "      <td>0.068309</td>\n",
       "      <td>0.053039</td>\n",
       "      <td>-0.068629</td>\n",
       "      <td>-0.032705</td>\n",
       "      <td>1</td>\n",
       "    </tr>\n",
       "    <tr>\n",
       "      <th>5</th>\n",
       "      <td>0.257464</td>\n",
       "      <td>0.158202</td>\n",
       "      <td>0.015021</td>\n",
       "      <td>0.033080</td>\n",
       "      <td>0.183314</td>\n",
       "      <td>-0.040514</td>\n",
       "      <td>0.080250</td>\n",
       "      <td>0.062811</td>\n",
       "      <td>-0.049371</td>\n",
       "      <td>0.092126</td>\n",
       "      <td>...</td>\n",
       "      <td>0.006336</td>\n",
       "      <td>0.115924</td>\n",
       "      <td>0.116511</td>\n",
       "      <td>-0.055674</td>\n",
       "      <td>-0.027272</td>\n",
       "      <td>0.043640</td>\n",
       "      <td>0.059178</td>\n",
       "      <td>-0.031775</td>\n",
       "      <td>0.012397</td>\n",
       "      <td>1</td>\n",
       "    </tr>\n",
       "    <tr>\n",
       "      <th>6</th>\n",
       "      <td>0.184529</td>\n",
       "      <td>0.117506</td>\n",
       "      <td>0.069546</td>\n",
       "      <td>0.077402</td>\n",
       "      <td>0.130801</td>\n",
       "      <td>-0.092427</td>\n",
       "      <td>0.006699</td>\n",
       "      <td>0.019700</td>\n",
       "      <td>-0.203980</td>\n",
       "      <td>0.030491</td>\n",
       "      <td>...</td>\n",
       "      <td>0.079844</td>\n",
       "      <td>0.107520</td>\n",
       "      <td>0.119651</td>\n",
       "      <td>-0.046843</td>\n",
       "      <td>-0.020426</td>\n",
       "      <td>0.020199</td>\n",
       "      <td>0.048499</td>\n",
       "      <td>-0.042398</td>\n",
       "      <td>-0.019206</td>\n",
       "      <td>1</td>\n",
       "    </tr>\n",
       "    <tr>\n",
       "      <th>7</th>\n",
       "      <td>0.224221</td>\n",
       "      <td>0.188585</td>\n",
       "      <td>0.060175</td>\n",
       "      <td>0.083710</td>\n",
       "      <td>0.106269</td>\n",
       "      <td>-0.115096</td>\n",
       "      <td>0.030030</td>\n",
       "      <td>0.081728</td>\n",
       "      <td>-0.080314</td>\n",
       "      <td>0.066757</td>\n",
       "      <td>...</td>\n",
       "      <td>0.021116</td>\n",
       "      <td>0.138170</td>\n",
       "      <td>0.176310</td>\n",
       "      <td>-0.097431</td>\n",
       "      <td>-0.017925</td>\n",
       "      <td>0.077682</td>\n",
       "      <td>0.065853</td>\n",
       "      <td>-0.043213</td>\n",
       "      <td>0.032218</td>\n",
       "      <td>1</td>\n",
       "    </tr>\n",
       "    <tr>\n",
       "      <th>8</th>\n",
       "      <td>0.202705</td>\n",
       "      <td>0.173892</td>\n",
       "      <td>0.061936</td>\n",
       "      <td>0.078606</td>\n",
       "      <td>0.150277</td>\n",
       "      <td>-0.079902</td>\n",
       "      <td>0.071888</td>\n",
       "      <td>0.063126</td>\n",
       "      <td>-0.086653</td>\n",
       "      <td>0.063259</td>\n",
       "      <td>...</td>\n",
       "      <td>0.014427</td>\n",
       "      <td>0.138062</td>\n",
       "      <td>0.114148</td>\n",
       "      <td>-0.084530</td>\n",
       "      <td>-0.032800</td>\n",
       "      <td>0.075365</td>\n",
       "      <td>0.050272</td>\n",
       "      <td>-0.066085</td>\n",
       "      <td>-0.014293</td>\n",
       "      <td>1</td>\n",
       "    </tr>\n",
       "    <tr>\n",
       "      <th>9</th>\n",
       "      <td>0.223490</td>\n",
       "      <td>0.176232</td>\n",
       "      <td>0.034974</td>\n",
       "      <td>0.073048</td>\n",
       "      <td>0.145010</td>\n",
       "      <td>-0.073925</td>\n",
       "      <td>0.079842</td>\n",
       "      <td>0.068924</td>\n",
       "      <td>-0.101150</td>\n",
       "      <td>0.078057</td>\n",
       "      <td>...</td>\n",
       "      <td>0.039560</td>\n",
       "      <td>0.121001</td>\n",
       "      <td>0.131677</td>\n",
       "      <td>-0.083940</td>\n",
       "      <td>-0.046745</td>\n",
       "      <td>0.062902</td>\n",
       "      <td>0.045239</td>\n",
       "      <td>-0.054479</td>\n",
       "      <td>-0.021212</td>\n",
       "      <td>1</td>\n",
       "    </tr>\n",
       "  </tbody>\n",
       "</table>\n",
       "<p>10 rows × 129 columns</p>\n",
       "</div>"
      ],
      "text/plain": [
       "   feature-0  feature-1  feature-2  feature-3  feature-4  feature-5  \\\n",
       "0   0.249508   0.140941   0.019358   0.069558   0.178254  -0.050526   \n",
       "1   0.216727   0.186541   0.050070   0.098276   0.140091  -0.080892   \n",
       "2   0.218126   0.180674   0.037945   0.061499   0.153078  -0.084201   \n",
       "3   0.211576   0.184971   0.055630   0.090802   0.131649  -0.078810   \n",
       "4   0.245235   0.161489   0.022288   0.038239   0.167697  -0.075540   \n",
       "5   0.257464   0.158202   0.015021   0.033080   0.183314  -0.040514   \n",
       "6   0.184529   0.117506   0.069546   0.077402   0.130801  -0.092427   \n",
       "7   0.224221   0.188585   0.060175   0.083710   0.106269  -0.115096   \n",
       "8   0.202705   0.173892   0.061936   0.078606   0.150277  -0.079902   \n",
       "9   0.223490   0.176232   0.034974   0.073048   0.145010  -0.073925   \n",
       "\n",
       "   feature-6  feature-7  feature-8  feature-9    ...      feature-119  \\\n",
       "0   0.116203   0.085332  -0.034444   0.098884    ...         0.009328   \n",
       "1   0.087637   0.044271  -0.098830   0.055600    ...         0.005635   \n",
       "2   0.082621   0.056989  -0.074941   0.036297    ...         0.015347   \n",
       "3   0.091326   0.051762  -0.104256   0.051484    ...         0.008539   \n",
       "4   0.061712   0.055288  -0.072449   0.058405    ...         0.028506   \n",
       "5   0.080250   0.062811  -0.049371   0.092126    ...         0.006336   \n",
       "6   0.006699   0.019700  -0.203980   0.030491    ...         0.079844   \n",
       "7   0.030030   0.081728  -0.080314   0.066757    ...         0.021116   \n",
       "8   0.071888   0.063126  -0.086653   0.063259    ...         0.014427   \n",
       "9   0.079842   0.068924  -0.101150   0.078057    ...         0.039560   \n",
       "\n",
       "   feature-120  feature-121  feature-122  feature-123  feature-124  \\\n",
       "0     0.100447     0.128663    -0.037708     0.003169     0.065096   \n",
       "1     0.147227     0.120921    -0.075316    -0.024081     0.081287   \n",
       "2     0.123694     0.116205    -0.080593    -0.018862     0.071693   \n",
       "3     0.157163     0.126885    -0.082595    -0.015439     0.087266   \n",
       "4     0.096711     0.122548    -0.060332    -0.041631     0.068309   \n",
       "5     0.115924     0.116511    -0.055674    -0.027272     0.043640   \n",
       "6     0.107520     0.119651    -0.046843    -0.020426     0.020199   \n",
       "7     0.138170     0.176310    -0.097431    -0.017925     0.077682   \n",
       "8     0.138062     0.114148    -0.084530    -0.032800     0.075365   \n",
       "9     0.121001     0.131677    -0.083940    -0.046745     0.062902   \n",
       "\n",
       "   feature-125  feature-126  feature-127  person_id  \n",
       "0    -0.023164     0.011312    -0.008885          1  \n",
       "1     0.031427     0.015923    -0.006036          1  \n",
       "2     0.019164    -0.049722    -0.035844          1  \n",
       "3     0.028905    -0.002334     0.002757          1  \n",
       "4     0.053039    -0.068629    -0.032705          1  \n",
       "5     0.059178    -0.031775     0.012397          1  \n",
       "6     0.048499    -0.042398    -0.019206          1  \n",
       "7     0.065853    -0.043213     0.032218          1  \n",
       "8     0.050272    -0.066085    -0.014293          1  \n",
       "9     0.045239    -0.054479    -0.021212          1  \n",
       "\n",
       "[10 rows x 129 columns]"
      ]
     },
     "execution_count": 19,
     "metadata": {
      "tags": []
     },
     "output_type": "execute_result"
    }
   ],
   "source": [
    "## Lihat isi dataset\n",
    "train_pd[:10]"
   ]
  },
  {
   "cell_type": "markdown",
   "metadata": {
    "colab_type": "text",
    "id": "DXLUOaevGZyi"
   },
   "source": [
    "## 3. Pisahkan Fitur dan Label\n",
    "Sebelum dataset dapat digunakan dalam training, validation dan testing machine learning, perlu dilakukan pemisahan antara fitur dan label untuk masing-masing trainingset, validationset dan testset. Dalam hal ini, fitur merupakan 512 fitur wajah yang terdapat pada kolom nol hingga 511 `feature-0`-`feature-511`, sedangkan label merupakan kolom ke 512 `face_id`. Namun, perlu diketahui bahwa Keras menerima data dalam bentuk _numpy ndarray_ bukan _pandas dataframe_ sedangkan dataset kita sebelumnya dalam bentuk _pandas dataframe_. Oleh karena itu, perlu dilakukan konversi data dari pandas ke numpy dengan [pandas.dataframe.values](https://pandas.pydata.org/pandas-docs/stable/reference/api/pandas.DataFrame.values.html).\n",
    "\n",
    "Dengan demikian berikut adalah langkah-langkah yang perlu dilakukan:\n",
    "1. Acak baris yang ada didalam dataset _pandas dataframe_ masing-masing `train_pd`, `valid_pd` dan `test_pd` dengan [sklearn.utils.shuffle](https://scikit-learn.org/stable/modules/generated/sklearn.utils.shuffle.html) dengan contoh sebagai berikut [shuffle-dataframe-rows](https://stackoverflow.com/questions/29576430/shuffle-dataframe-rows)\n",
    "2. Konversi data dari _pandas dataframe_ menjadi _numpy ndarray_.\n",
    "3. Pisah data fitur yang disimpan dalam `X_train`, `X_val` dan `X_test` dengan [numpy indexing](https://www.numpy.org/devdocs/user/basics.indexing.html).\n",
    "4. Pisah data label `y_train`, `y_val` dan `y_test`. Namun, perlu diketahui bahwa dimensi vektor harus dalam bentuk vektor kolom yang dapat dilakukan dengan [numpy.ndarray.reshape()](https://docs.scipy.org/doc/numpy/reference/generated/numpy.ndarray.reshape.html)"
   ]
  },
  {
   "cell_type": "code",
   "execution_count": 0,
   "metadata": {
    "colab": {},
    "colab_type": "code",
    "id": "UmmclnY-GZyj"
   },
   "outputs": [],
   "source": [
    "from sklearn.utils import shuffle\n",
    "\n",
    "## Tugas : Acak baris train_pd dan test_pd\n",
    "train_pd = None\n",
    "valid_pd = None\n",
    "test_pd = None"
   ]
  },
  {
   "cell_type": "code",
   "execution_count": 0,
   "metadata": {
    "colab": {},
    "colab_type": "code",
    "id": "PE61nuR6GZyp",
    "outputId": "3501f990-f5c6-48e1-f29e-eec06badbecf"
   },
   "outputs": [
    {
     "name": "stdout",
     "output_type": "stream",
     "text": [
      "trainingset\n",
      "[[ 0.1556045   0.09190694 -0.05697304  0.10078716  0.11692164]\n",
      " [ 0.11699945  0.05099101 -0.12017793  0.0141609  -0.02929075]\n",
      " [ 0.09789222  0.05472619  0.02016508  0.14047895  0.08256042]\n",
      " [ 0.12601298  0.05530059  0.05999723  0.02195709  0.02276796]\n",
      " [ 0.07944823  0.07345875  0.0080224  -0.05783851 -0.01005457]]\n",
      "\n",
      "testset\n",
      "[[ 0.02127057  0.05560327 -0.09081914  0.03807011 -0.05890091]\n",
      " [ 0.10710452  0.15742023  0.05348891  0.00598381  0.00628382]\n",
      " [ 0.15290627 -0.06366513  0.03544303  0.06766491  0.11990856]\n",
      " [ 0.14007363  0.09067726  0.01565232  0.01997773  0.02389572]\n",
      " [ 0.16874114  0.08379415  0.04513727  0.11792881  0.02879788]]\n"
     ]
    }
   ],
   "source": [
    "import numpy as np\n",
    "\n",
    "## Tugas : Konversi dataframe pandas ke numpy ndarray\n",
    "train = train_pd.values\n",
    "print('trainingset')\n",
    "print(train[:5,:5]) # Tampilkan 5 kolom pertama dan 5 baris pertama\n",
    "\n",
    "valid = valid_pd.values\n",
    "print('\\nvalidset')\n",
    "print(valid[:5,:5])\n",
    "\n",
    "test = test_pd.values\n",
    "print('\\ntestset')\n",
    "print(test[:5,:5])"
   ]
  },
  {
   "cell_type": "code",
   "execution_count": 0,
   "metadata": {
    "colab": {},
    "colab_type": "code",
    "id": "uijqxttIGZyu",
    "outputId": "89f56ed4-47e0-40ba-e6a1-a59952926b5e"
   },
   "outputs": [
    {
     "name": "stdout",
     "output_type": "stream",
     "text": [
      "Dimensi matriks trainset\n",
      "fitur: (36224, 128)\n",
      "label: (36224, 1)\n",
      "\n",
      "Dimensi matriks testset\n",
      "fitur: (5534, 128)\n",
      "label: (5534, 1)\n"
     ]
    }
   ],
   "source": [
    "## Tugas : Pisah data fitur dan data label\n",
    "\n",
    "# Trainingset\n",
    "X_train = train[:,:512]\n",
    "y_train = train[:,512].reshape(X_train.shape[0],-1)\n",
    "print('Dimensi matriks trainset')\n",
    "print('fitur: '+ str(X_train.shape))\n",
    "print('label: '+ str(y_train.shape))\n",
    "\n",
    "# Validset\n",
    "X_valid = valid[:,:512]\n",
    "y_valid = valid[:,512].reshape(X_valid.shape[0],-1)\n",
    "print('\\nDimensi matriks validset')\n",
    "print('fitur: '+ str(X_valid.shape))\n",
    "print('label: '+ str(y_valid.shape))\n",
    "\n",
    "# Testset\n",
    "X_test = test[:,:512]\n",
    "y_test = test[:,512].reshape(X_test.shape[0],-1)\n",
    "print('\\nDimensi matriks testset')\n",
    "print('fitur: '+ str(X_test.shape))\n",
    "print('label: '+ str(y_test.shape))\n",
    "\n",
    "## Hasil Seharusnya di console\n",
    "##\n",
    "##   Dimensi matriks trainset\n",
    "##   fitur: (16700, 512)\n",
    "##   label: (16700, 1)\n",
    "##   \n",
    "##   Dimensi matriks validset\n",
    "##   fitur: (1161, 512)\n",
    "##   label: (1161, 1)\n",
    "##   \n",
    "##   Dimensi matriks testset\n",
    "##   fitur: (1200, 512)\n",
    "##   label: (1200, 1)"
   ]
  },
  {
   "cell_type": "markdown",
   "metadata": {
    "colab_type": "text",
    "id": "XBBKKFbDGZyz"
   },
   "source": [
    "## 4. Olah data label dengan One-Hot-Encoding\n",
    "Data label dalam `y_train` dan `y_test` masih berupa tipe integer dimana satu nilai merepresentasikan satu identitas wajah. Dalam keras, data label perlu diolah menjadi matriks yang tiap baris berupa vektor nilai nol atau satu. Data label tersebut perlu dioleh dengan metode [One-Hot-Encoding](https://hackernoon.com/what-is-one-hot-encoding-why-and-when-do-you-have-to-use-it-e3c6186d008f).\n",
    "\n",
    "Misalkan terdapat 3 kelas dan data label adalah sebagai berikut \n",
    "\n",
    "[[0], \n",
    " [1], \n",
    " [1], \n",
    " [2]].\n",
    "\n",
    "Dengan metode one-hot-encoding maka data label akan menjadi\n",
    "\n",
    "[[1, 0, 0],\n",
    " [0, 1, 0],\n",
    " [0, 1, 0],\n",
    " [0, 0, 1]]\n",
    " \n",
    "Salah satu cara mengimplementasikan one-hot encoding adalah dengan menggunakan library [sklearn.preprocessing.LabelBinazer()](https://scikit-learn.org/stable/modules/generated/sklearn.preprocessing.LabelBinarizer.html).\n",
    "\n",
    "*NB:* Perhatikan bahwa jumlah label y_train, y_valid & y_test berbeda yang bisa menyebabkan potensi kesalahan pada one-hot encoding tanpa modifikasi!!"
   ]
  },
  {
   "cell_type": "code",
   "execution_count": 0,
   "metadata": {
    "colab": {},
    "colab_type": "code",
    "id": "CQdm6e8qGZy0",
    "outputId": "1533522f-b9de-46b0-fe20-252ac78d283e"
   },
   "outputs": [
    {
     "name": "stdout",
     "output_type": "stream",
     "text": [
      "Dimensi label setelah one-hot-encoding\n",
      "train: (36224, 153)\n",
      "test : (5534, 153)\n"
     ]
    }
   ],
   "source": [
    "from sklearn import preprocessing\n",
    "\n",
    "## Tugas : Olah data label dengan metode one-hot encoding\n",
    "\n",
    "y_train = None # Label untuk traningset\n",
    "y_valid = None # Label untuk validset\n",
    "y_test = None # Label untuk testset\n",
    "\n",
    "print('Dimensi label setelah one-hot-encoding')\n",
    "print('train: ' + str(y_train.shape))\n",
    "print('valid: ' + str(y_valid.shape))\n",
    "print('test : ' + str(y_test.shape))\n",
    "\n",
    "## Hasil Seharusnya di console\n",
    "##  \n",
    "##  Dimensi label setelah one-hot-encoding\n",
    "##  train: (38781, 200)\n",
    "##  valid: (2368, 200)\n",
    "##  test : (2458, 200)"
   ]
  },
  {
   "cell_type": "markdown",
   "metadata": {
    "colab_type": "text",
    "id": "9JrV873jGZy4"
   },
   "source": [
    "## 5. Definisikan Model Machine Learning\n",
    "Pada tugas besar ini, Anda diharapkan membangun model Neural Network dengan Keras yang dapat dilihat contoh implementasinya pada [API Sequential Keras](https://keras.io/getting-started/sequential-model-guide/). Silahkan bereksperimen dengan jumlah hidden layer, jumlah node dan fungsi aktivasi. Selain itu, silahkan gunakan Dropout sebagai salah satu metode penanganan overfitting."
   ]
  },
  {
   "cell_type": "code",
   "execution_count": 0,
   "metadata": {
    "colab": {},
    "colab_type": "code",
    "id": "FlStiL_ZGZy5",
    "outputId": "ace77f97-5868-4d75-ca7c-604c7052aa90"
   },
   "outputs": [
    {
     "name": "stdout",
     "output_type": "stream",
     "text": [
      "_________________________________________________________________\n",
      "Layer (type)                 Output Shape              Param #   \n",
      "=================================================================\n",
      "dense_4 (Dense)              (None, 512)               66048     \n",
      "_________________________________________________________________\n",
      "dropout_3 (Dropout)          (None, 512)               0         \n",
      "_________________________________________________________________\n",
      "dense_5 (Dense)              (None, 512)               262656    \n",
      "_________________________________________________________________\n",
      "dropout_4 (Dropout)          (None, 512)               0         \n",
      "_________________________________________________________________\n",
      "dense_6 (Dense)              (None, 153)               78489     \n",
      "=================================================================\n",
      "Total params: 407,193\n",
      "Trainable params: 407,193\n",
      "Non-trainable params: 0\n",
      "_________________________________________________________________\n"
     ]
    }
   ],
   "source": [
    "from keras.models import Sequential\n",
    "from keras.layers import Dense, Dropout, Activation\n",
    "\n",
    "## Tugas : Definisikan Parameter Model\n",
    "dimensi_input = None  # Dimensi data input (jumlah fitur)\n",
    "hidden_layer_1 = None # Jumlah node pada hidden layer pertama\n",
    "hidden_layer_2 = None # Jumlah node pada hidden layer kedua\n",
    "output_layer = None    # Jumlah node pada output layer\n",
    "drop_prob = None      # Nilai probability untuk dropout layer\n",
    "\n",
    "## Tugas : Definisikan model dibawah\n",
    "## Coba model machine learning\n",
    "\n",
    "## Tampilkan definisi model\n",
    "model.summary()"
   ]
  },
  {
   "cell_type": "markdown",
   "metadata": {
    "colab_type": "text",
    "id": "lZYTUlzTGZy9"
   },
   "source": [
    "## 6. Definisikan Hyperparameters\n",
    "Hyperparameters merupakan nilai-nilai yang perlu ditentukan agar kita dapat memeroleh hasil training yang baik. Dalam hal ini, perlu ditentukan nilai learning rate, ukuran batch dan jumlah iterasi epoch."
   ]
  },
  {
   "cell_type": "code",
   "execution_count": 0,
   "metadata": {
    "colab": {},
    "colab_type": "code",
    "id": "-UTPdIFdGZy-"
   },
   "outputs": [],
   "source": [
    "## Tugas : Tentukan Nilai Hyperparameters\n",
    "learning_rate = None\n",
    "batch_size = None\n",
    "epoch = None"
   ]
  },
  {
   "cell_type": "markdown",
   "metadata": {
    "colab_type": "text",
    "id": "BLp1qbFiGZzE"
   },
   "source": [
    "## 7. Definisikan Optimizer dan Loss Function\n",
    "Optimizer merupakan opsi yang juga perlu diperhatikan, pilihan optimizer dalam Keras dapat dilihat [keras-optimizers](https://keras.io/optimizers/). Selain itu, loss function juga perlu dipilih yang disesuaikan dengan jenis data yang digunakan. Dalam Keras jenis-jenis loss function dapat dilihat di [keras-losses](https://keras.io/losses/)."
   ]
  },
  {
   "cell_type": "code",
   "execution_count": 0,
   "metadata": {
    "colab": {},
    "colab_type": "code",
    "id": "Dks8q2plGZzF"
   },
   "outputs": [],
   "source": [
    "from keras.optimizers import Adam\n",
    "\n",
    "## Tugas : Definisikan Optimizer dan Loss function\n",
    "\n",
    "optimizer = None\n",
    "\n",
    "model.compile(loss= None , optimizer= None , metrics=[ 'accuracy' ])"
   ]
  },
  {
   "cell_type": "markdown",
   "metadata": {
    "colab_type": "text",
    "id": "egqLGwh8GZzL"
   },
   "source": [
    "## 8. Training Model\n",
    "Model dapat di-train dengan script sebagai berikut. Perlu diperhatikan bahwa training machine learning biasanya dilakukan berulang kali dengan mengatur hyperparameter model(hidden layer, jumlah node, dll) dan hyperparameter training (learning rate, ukuran batch, optimizer, dll) sehingga diperoleh model hasil training dengan akurasi terbaik. Tidak terdapat rumus baku tentang nilai hyperparameter untuk menghasilkan training terbaik. Akan tetapi, terdapat beberapa artikel yang menjelaskan tentang sense dalam memilih hyperparameter sebagai berikut [Neural Networks and Deep Learning book - Chapter 3: How to choose a neural network's hyper-parameters? by Michael Nielsen](http://neuralnetworksanddeeplearning.com/chap3.html#how_to_choose_a_neural_network's_hyper-parameters) dan [Deep Learning book - chapter 11.4: Selecting Hyperparameters by Ian Goodfellow, Yoshua Bengio, Aaron Courville](http://www.deeplearningbook.org/contents/guidelines.html)"
   ]
  },
  {
   "cell_type": "code",
   "execution_count": 0,
   "metadata": {
    "colab": {},
    "colab_type": "code",
    "id": "LDYBlpqKGZzM",
    "outputId": "b440b2f3-5a1c-4a07-9055-1c926c12f30d"
   },
   "outputs": [
    {
     "name": "stdout",
     "output_type": "stream",
     "text": [
      "Epoch 1/10\n",
      "36224/36224 [==============================] - 6s 157us/step - loss: 3.6468 - acc: 0.2804\n",
      "Epoch 2/10\n",
      "36224/36224 [==============================] - 5s 143us/step - loss: 0.7136 - acc: 0.8509\n",
      "Epoch 3/10\n",
      "36224/36224 [==============================] - 5s 145us/step - loss: 0.2606 - acc: 0.9441\n",
      "Epoch 4/10\n",
      "36224/36224 [==============================] - 5s 144us/step - loss: 0.1631 - acc: 0.9629\n",
      "Epoch 5/10\n",
      "36224/36224 [==============================] - 5s 145us/step - loss: 0.1166 - acc: 0.9734\n",
      "Epoch 6/10\n",
      "36224/36224 [==============================] - 5s 145us/step - loss: 0.0884 - acc: 0.9798\n",
      "Epoch 7/10\n",
      "36224/36224 [==============================] - 5s 147us/step - loss: 0.0730 - acc: 0.9832\n",
      "Epoch 8/10\n",
      "36224/36224 [==============================] - 5s 147us/step - loss: 0.0583 - acc: 0.9871\n",
      "Epoch 9/10\n",
      "36224/36224 [==============================] - 5s 145us/step - loss: 0.0504 - acc: 0.9885\n",
      "Epoch 10/10\n",
      "36224/36224 [==============================] - 5s 147us/step - loss: 0.0419 - acc: 0.9902\n"
     ]
    },
    {
     "data": {
      "text/plain": [
       "<keras.callbacks.History at 0x1a2dc1e0cc0>"
      ]
     },
     "execution_count": 27,
     "metadata": {
      "tags": []
     },
     "output_type": "execute_result"
    }
   ],
   "source": [
    "## Train Model dengan script dibawah\n",
    "model.fit()"
   ]
  },
  {
   "cell_type": "markdown",
   "metadata": {
    "colab_type": "text",
    "id": "jaTYNYi8GZzQ"
   },
   "source": [
    "__Pertanyaan 1__: Jelaskan langkah-langkah yang Anda lakukan sehingga mendapat akurasi terbaik saat ini? Uraikan setiap langkah beserta alasannya. Menurut Anda, apakah model saat ini performanya sudah cukup?"
   ]
  },
  {
   "cell_type": "markdown",
   "metadata": {
    "colab_type": "text",
    "id": "35Vzr0wNGZzR"
   },
   "source": [
    "__Jawaban__: (silahkan klik dua kali cell ini)\n",
    "- langkah 1\n",
    "- langkah 2\n",
    "- ...\n"
   ]
  },
  {
   "cell_type": "markdown",
   "metadata": {
    "colab_type": "text",
    "id": "In1-_GI4GZzS"
   },
   "source": [
    "## 8. Evaluasi Model (Testing)\n",
    "Berikut adalah script yang dapat digunakan untuk menguji model dengan dataset test. Jika akurasi hasil evaluasi jauh lebih kecil daripada akurasi training, maka model Anda mengalami **overfitting**."
   ]
  },
  {
   "cell_type": "code",
   "execution_count": 0,
   "metadata": {
    "colab": {},
    "colab_type": "code",
    "id": "8_XiQr8iGZzS",
    "outputId": "0ca80a62-fc45-420e-8a9a-c996add98fb8"
   },
   "outputs": [
    {
     "name": "stdout",
     "output_type": "stream",
     "text": [
      "5534/5534 [==============================] - 0s 66us/step\n",
      "Loss test    : 1.19\n",
      "Akurasi test : 78.62 %\n"
     ]
    }
   ],
   "source": [
    "## Evaluasi Model dengan script dibawah\n",
    "score = model.evaluate(X_test, y_test, batch_size=128)\n",
    "print('Loss test    : {:.2f}'.format(score[0]))\n",
    "print('Akurasi test : {:.2f} %'.format(score[1]*100))"
   ]
  },
  {
   "cell_type": "markdown",
   "metadata": {
    "colab_type": "text",
    "id": "eMaf_ijPGZzW"
   },
   "source": [
    "## 9. Eksperimen Model Machine Learning Lain (Opsional)\n",
    "Neural Network merupakan salah satu dari banyak algoritma machine learning. Jika Anda ingin mengerjakan bagian opsional ini silahkan bereksperimen membangun face recognition dengan algoritma lain, seperti Support Vector Machine(SVM)."
   ]
  },
  {
   "cell_type": "code",
   "execution_count": 0,
   "metadata": {
    "colab": {},
    "colab_type": "code",
    "id": "-jP3c3wJGZzX"
   },
   "outputs": [],
   "source": [
    "## Tugas : (Opsional)\n",
    "## Membangun model face recognition dengan algoritma selain NN\n",
    "## Silahkan bereksperimen dengan banyak algoritma"
   ]
  },
  {
   "cell_type": "markdown",
   "metadata": {
    "colab_type": "text",
    "id": "um9AFlFrGZzb"
   },
   "source": [
    "__Pertanyaan 2__: Apakah algoritma terbaik yang Anda gunakan lebih baik dari Neural Network? Silahkan jelaskan alasan kenapa algoritma tersebut lebih baik atau lebih buruk dari Neural Network?"
   ]
  },
  {
   "cell_type": "markdown",
   "metadata": {
    "colab_type": "text",
    "id": "CrLGam-bGZzc"
   },
   "source": [
    "__Jawaban__: (silahkan klik dua kali cell ini)\n"
   ]
  }
 ],
 "metadata": {
  "colab": {
   "collapsed_sections": [],
   "name": "face_recognition_project.ipynb",
   "provenance": []
  },
  "kernelspec": {
   "display_name": "Python 3",
   "language": "python",
   "name": "python3"
  },
  "language_info": {
   "codemirror_mode": {
    "name": "ipython",
    "version": 3
   },
   "file_extension": ".py",
   "mimetype": "text/x-python",
   "name": "python",
   "nbconvert_exporter": "python",
   "pygments_lexer": "ipython3",
   "version": "3.6.9"
  }
 },
 "nbformat": 4,
 "nbformat_minor": 1
}
